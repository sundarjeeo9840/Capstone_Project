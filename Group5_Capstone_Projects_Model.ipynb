{
 "cells": [
  {
   "cell_type": "markdown",
   "id": "46de492b",
   "metadata": {},
   "source": [
    "<h1 style=\"background-color:Green; color:white\" >Importing Libraries</h1>"
   ]
  },
  {
   "cell_type": "code",
   "execution_count": 1,
   "id": "d3dcfb03",
   "metadata": {},
   "outputs": [],
   "source": [
    "import pandas as pd\n",
    "import numpy as np\n",
    "import seaborn as sns\n",
    "import matplotlib.pyplot as plt\n",
    "import plotly.express as px\n",
    "from warnings import filterwarnings\n",
    "filterwarnings('ignore')"
   ]
  },
  {
   "cell_type": "code",
   "execution_count": 2,
   "id": "aca5c053",
   "metadata": {},
   "outputs": [],
   "source": [
    "from sklearn.model_selection import train_test_split,GridSearchCV,cross_val_score\n",
    "from sklearn.linear_model import LogisticRegression\n",
    "from sklearn.tree import DecisionTreeClassifier \n",
    "from sklearn.model_selection import StratifiedKFold\n",
    "from sklearn import tree\n",
    "from sklearn.neighbors import KNeighborsClassifier\n",
    "from sklearn.naive_bayes import GaussianNB, BernoulliNB, MultinomialNB\n",
    "from sklearn.ensemble import AdaBoostClassifier,GradientBoostingClassifier,RandomForestClassifier,ExtraTreesClassifier\n",
    "from xgboost import XGBClassifier\n",
    "from lightgbm import LGBMClassifier\n",
    "from sklearn.metrics import cohen_kappa_score,accuracy_score,roc_auc_score,roc_curve\n",
    "from sklearn.metrics import f1_score,confusion_matrix,classification_report\n",
    "from sklearn.feature_selection import RFE\n",
    "from collections import Counter\n",
    "from imblearn.over_sampling import SMOTE\n",
    "from imblearn.under_sampling import RandomUnderSampler\n",
    "\n",
    "# metrics \n",
    "from sklearn.metrics import cohen_kappa_score,accuracy_score,roc_auc_score,roc_curve\n",
    "from sklearn.metrics import f1_score,confusion_matrix,classification_report\n",
    "from sklearn.feature_selection import RFE\n",
    "from sklearn.metrics import recall_score,precision_score,accuracy_score\n",
    "\n",
    "#stats\n",
    "from scipy import stats\n",
    "import statsmodels.api as sma\n",
    "import statsmodels.formula.api as sfa\n",
    "from statsmodels.stats.outliers_influence import variance_inflation_factor\n",
    "\n",
    "# Evaluate the model\n",
    "from sklearn.model_selection import StratifiedKFold,cross_val_score\n",
    "from sklearn.preprocessing import PowerTransformer\n",
    "from sklearn.preprocessing import LabelEncoder"
   ]
  },
  {
   "cell_type": "markdown",
   "id": "d656d091",
   "metadata": {},
   "source": [
    "<h1 style=\"background-color:DodgerBlue; color:white\" >Importing the file</h1>"
   ]
  },
  {
   "cell_type": "code",
   "execution_count": 3,
   "id": "7838ffcd",
   "metadata": {},
   "outputs": [],
   "source": [
    "pd.set_option('display.max_columns',None)"
   ]
  },
  {
   "cell_type": "code",
   "execution_count": 4,
   "id": "9be3ed0e",
   "metadata": {},
   "outputs": [
    {
     "data": {
      "text/html": [
       "<div>\n",
       "<style scoped>\n",
       "    .dataframe tbody tr th:only-of-type {\n",
       "        vertical-align: middle;\n",
       "    }\n",
       "\n",
       "    .dataframe tbody tr th {\n",
       "        vertical-align: top;\n",
       "    }\n",
       "\n",
       "    .dataframe thead th {\n",
       "        text-align: right;\n",
       "    }\n",
       "</style>\n",
       "<table border=\"1\" class=\"dataframe\">\n",
       "  <thead>\n",
       "    <tr style=\"text-align: right;\">\n",
       "      <th></th>\n",
       "      <th>age</th>\n",
       "      <th>job</th>\n",
       "      <th>marital</th>\n",
       "      <th>education</th>\n",
       "      <th>default</th>\n",
       "      <th>balance</th>\n",
       "      <th>housing</th>\n",
       "      <th>loan</th>\n",
       "      <th>contact</th>\n",
       "      <th>day</th>\n",
       "      <th>month</th>\n",
       "      <th>duration</th>\n",
       "      <th>campaign</th>\n",
       "      <th>pdays</th>\n",
       "      <th>previous</th>\n",
       "      <th>poutcome</th>\n",
       "      <th>y</th>\n",
       "    </tr>\n",
       "  </thead>\n",
       "  <tbody>\n",
       "    <tr>\n",
       "      <th>0</th>\n",
       "      <td>58</td>\n",
       "      <td>management</td>\n",
       "      <td>married</td>\n",
       "      <td>tertiary</td>\n",
       "      <td>no</td>\n",
       "      <td>2143</td>\n",
       "      <td>yes</td>\n",
       "      <td>no</td>\n",
       "      <td>unknown</td>\n",
       "      <td>5</td>\n",
       "      <td>may</td>\n",
       "      <td>261</td>\n",
       "      <td>1</td>\n",
       "      <td>-1</td>\n",
       "      <td>0</td>\n",
       "      <td>unknown</td>\n",
       "      <td>no</td>\n",
       "    </tr>\n",
       "    <tr>\n",
       "      <th>1</th>\n",
       "      <td>44</td>\n",
       "      <td>technician</td>\n",
       "      <td>single</td>\n",
       "      <td>secondary</td>\n",
       "      <td>no</td>\n",
       "      <td>29</td>\n",
       "      <td>yes</td>\n",
       "      <td>no</td>\n",
       "      <td>unknown</td>\n",
       "      <td>5</td>\n",
       "      <td>may</td>\n",
       "      <td>151</td>\n",
       "      <td>1</td>\n",
       "      <td>-1</td>\n",
       "      <td>0</td>\n",
       "      <td>unknown</td>\n",
       "      <td>no</td>\n",
       "    </tr>\n",
       "  </tbody>\n",
       "</table>\n",
       "</div>"
      ],
      "text/plain": [
       "   age         job  marital  education default  balance housing loan  contact  \\\n",
       "0   58  management  married   tertiary      no     2143     yes   no  unknown   \n",
       "1   44  technician   single  secondary      no       29     yes   no  unknown   \n",
       "\n",
       "   day month  duration  campaign  pdays  previous poutcome   y  \n",
       "0    5   may       261         1     -1         0  unknown  no  \n",
       "1    5   may       151         1     -1         0  unknown  no  "
      ]
     },
     "execution_count": 4,
     "metadata": {},
     "output_type": "execute_result"
    }
   ],
   "source": [
    "df = pd.read_csv('bank-full.csv',sep=';')\n",
    "df.head(2)"
   ]
  },
  {
   "cell_type": "code",
   "execution_count": 5,
   "id": "58307475",
   "metadata": {},
   "outputs": [
    {
     "data": {
      "text/plain": [
       "(45211, 17)"
      ]
     },
     "execution_count": 5,
     "metadata": {},
     "output_type": "execute_result"
    }
   ],
   "source": [
    "df.shape"
   ]
  },
  {
   "cell_type": "code",
   "execution_count": 6,
   "id": "398c252b",
   "metadata": {},
   "outputs": [],
   "source": [
    "df1  = df.copy(deep = True)"
   ]
  },
  {
   "cell_type": "markdown",
   "id": "a5417e36",
   "metadata": {},
   "source": [
    "* Treating the unknown in poutcome\n",
    "* changing all the poutcome (unknown) to previous not contact \n",
    "* because all the unknown have not beem contacted we can see that from pdays and previous  "
   ]
  },
  {
   "cell_type": "code",
   "execution_count": 7,
   "id": "754d819e",
   "metadata": {},
   "outputs": [],
   "source": [
    "s = {'unknown':'prev_non_contact'}\n",
    "df1['poutcome'] = df1['poutcome'].replace(s,regex=True)"
   ]
  },
  {
   "cell_type": "markdown",
   "id": "2b15eba3",
   "metadata": {},
   "source": [
    "<h2><span class=\"label label-primary\">Statistical Analysis</span></h2>"
   ]
  },
  {
   "cell_type": "markdown",
   "id": "282a7de1",
   "metadata": {},
   "source": [
    "**Performing Chi square test for categorical variables to find the significance**"
   ]
  },
  {
   "cell_type": "markdown",
   "id": "9f0e505b",
   "metadata": {},
   "source": [
    "* Ho: that the predictor is independent of target ( the predictor and target are not related)\n",
    "* H1: that the predictor dependent of target"
   ]
  },
  {
   "cell_type": "code",
   "execution_count": 8,
   "id": "7f64a3bf",
   "metadata": {},
   "outputs": [],
   "source": [
    "cat = ['job', 'marital', 'education', 'default', 'housing', 'loan', 'contact',\n",
    "       'month', 'poutcome']"
   ]
  },
  {
   "cell_type": "code",
   "execution_count": 9,
   "id": "282ffc65",
   "metadata": {},
   "outputs": [
    {
     "name": "stdout",
     "output_type": "stream",
     "text": [
      "Pvalue for job is 0.0\n",
      "Pvalue for marital is 0.0\n",
      "Pvalue for education is 0.0\n",
      "Pvalue for default is 0.0\n",
      "Pvalue for housing is 0.0\n",
      "Pvalue for loan is 0.0\n",
      "Pvalue for contact is 0.0\n",
      "Pvalue for month is 0.0\n",
      "Pvalue for poutcome is 0.0\n"
     ]
    }
   ],
   "source": [
    "for i in cat:\n",
    "    tbl = pd.crosstab(df1[i],df1.y)\n",
    "    teststats,pvalue,d,exp_freq = stats.chi2_contingency(tbl)\n",
    "    print(f'Pvalue for {i} is {np.round(pvalue,5)}')"
   ]
  },
  {
   "cell_type": "raw",
   "id": "40bb1b1f",
   "metadata": {},
   "source": [
    "p value is < 0.05 for all the independent varialbles, \n",
    "hence we conclude that the target variable is dependent on all the features"
   ]
  },
  {
   "cell_type": "code",
   "execution_count": 10,
   "id": "9d1b12e4",
   "metadata": {},
   "outputs": [],
   "source": [
    "s = df1.copy(deep=True)"
   ]
  },
  {
   "cell_type": "code",
   "execution_count": 11,
   "id": "9bc07e80",
   "metadata": {},
   "outputs": [],
   "source": [
    "a = {'no':0,'yes':1}\n",
    "s.y = s.y.replace(a)"
   ]
  },
  {
   "cell_type": "markdown",
   "id": "c6dc885e",
   "metadata": {},
   "source": [
    "**Performing Two_sample_ttest to find the significance between the independent numerical feature w.r.t to categorical target**"
   ]
  },
  {
   "cell_type": "markdown",
   "id": "7d0a6323",
   "metadata": {},
   "source": [
    "* Ho: that the predictor is independent of target ( the predictor and target are not related)\n",
    "* H1: that the predictor dependent of target"
   ]
  },
  {
   "cell_type": "code",
   "execution_count": 12,
   "id": "c2eb7792",
   "metadata": {},
   "outputs": [
    {
     "name": "stdout",
     "output_type": "stream",
     "text": [
      "Pvalue for age is 0.0\n",
      "Pvalue for balance is 0.0\n",
      "Pvalue for day is 0.0\n",
      "Pvalue for duration is 0.0\n",
      "Pvalue for campaign is 0.0\n",
      "Pvalue for pdays is 0.0\n",
      "Pvalue for previous is 0.0\n"
     ]
    }
   ],
   "source": [
    "# ttest ind for numerical values\n",
    "cols = ['age', 'balance', 'day', 'duration', 'campaign', 'pdays', 'previous']\n",
    "for i in cols:\n",
    "    zero = s.loc[s.y==0,i]\n",
    "    one = s.loc[s.y==1, i]\n",
    "    teststats, pvalue = stats.ttest_ind(zero,one)\n",
    "    print(f'Pvalue for {i} is {np.round(pvalue,5)}')"
   ]
  },
  {
   "cell_type": "raw",
   "id": "e27beac1",
   "metadata": {},
   "source": [
    "p value is < 0.05 for all the independent varialbles, \n",
    "hence we conclude that the target variable is dependent on all the features"
   ]
  },
  {
   "cell_type": "markdown",
   "id": "8f4ef369",
   "metadata": {},
   "source": [
    "<h2><span class=\"label label-primary\">Encoding</span></h2>"
   ]
  },
  {
   "cell_type": "code",
   "execution_count": 13,
   "id": "0b2f78fc",
   "metadata": {},
   "outputs": [],
   "source": [
    "df2 = df1.copy(deep=True)"
   ]
  },
  {
   "cell_type": "code",
   "execution_count": 14,
   "id": "d76153af",
   "metadata": {},
   "outputs": [],
   "source": [
    "d={'no':0,'yes':1}\n",
    "df2['y'] = df2['y'].replace(d)\n",
    "df2.default = df2.default.map(d)\n",
    "df2.housing = df2.housing.map(d)\n",
    "df2.loan = df2.loan.map(d)"
   ]
  },
  {
   "cell_type": "markdown",
   "id": "47a3a1aa",
   "metadata": {},
   "source": [
    "#### Frequency encoding"
   ]
  },
  {
   "cell_type": "code",
   "execution_count": 15,
   "id": "1877090e",
   "metadata": {},
   "outputs": [],
   "source": [
    "a=['education','poutcome']"
   ]
  },
  {
   "cell_type": "code",
   "execution_count": 16,
   "id": "b0f50bfa",
   "metadata": {},
   "outputs": [],
   "source": [
    "for i in a:\n",
    "    b =df2[i].value_counts(normalize=True)\n",
    "    df2[i]=df2[i].map(b)"
   ]
  },
  {
   "cell_type": "markdown",
   "id": "b39d2c2f",
   "metadata": {},
   "source": [
    "#### dummy encoding for marital,contact"
   ]
  },
  {
   "cell_type": "code",
   "execution_count": 17,
   "id": "24da00a4",
   "metadata": {},
   "outputs": [],
   "source": [
    "df2 = pd.get_dummies(data=df2,columns=['marital'],drop_first=True)"
   ]
  },
  {
   "cell_type": "code",
   "execution_count": 18,
   "id": "7dc2c124",
   "metadata": {},
   "outputs": [],
   "source": [
    "df2 = pd.get_dummies(data=df2,columns=['contact'],drop_first=True)"
   ]
  },
  {
   "cell_type": "code",
   "execution_count": 19,
   "id": "f267ea21",
   "metadata": {},
   "outputs": [],
   "source": [
    "c = ['job','month']"
   ]
  },
  {
   "cell_type": "markdown",
   "id": "e0134683",
   "metadata": {},
   "source": [
    "#### Label encoding for job and month"
   ]
  },
  {
   "cell_type": "code",
   "execution_count": 20,
   "id": "05d57c2b",
   "metadata": {},
   "outputs": [],
   "source": [
    "from sklearn.preprocessing import LabelEncoder"
   ]
  },
  {
   "cell_type": "code",
   "execution_count": 21,
   "id": "c8ed4f39",
   "metadata": {},
   "outputs": [],
   "source": [
    "le = LabelEncoder()"
   ]
  },
  {
   "cell_type": "code",
   "execution_count": 22,
   "id": "4733bbf0",
   "metadata": {},
   "outputs": [],
   "source": [
    "df2['job']= le.fit_transform(df2['job'])"
   ]
  },
  {
   "cell_type": "code",
   "execution_count": 23,
   "id": "97243a07",
   "metadata": {},
   "outputs": [],
   "source": [
    "df2['month']= le.fit_transform(df2['month'])"
   ]
  },
  {
   "cell_type": "code",
   "execution_count": 24,
   "id": "8b57d449",
   "metadata": {},
   "outputs": [
    {
     "data": {
      "text/html": [
       "<div>\n",
       "<style scoped>\n",
       "    .dataframe tbody tr th:only-of-type {\n",
       "        vertical-align: middle;\n",
       "    }\n",
       "\n",
       "    .dataframe tbody tr th {\n",
       "        vertical-align: top;\n",
       "    }\n",
       "\n",
       "    .dataframe thead th {\n",
       "        text-align: right;\n",
       "    }\n",
       "</style>\n",
       "<table border=\"1\" class=\"dataframe\">\n",
       "  <thead>\n",
       "    <tr style=\"text-align: right;\">\n",
       "      <th></th>\n",
       "      <th>age</th>\n",
       "      <th>job</th>\n",
       "      <th>education</th>\n",
       "      <th>default</th>\n",
       "      <th>balance</th>\n",
       "      <th>housing</th>\n",
       "      <th>loan</th>\n",
       "      <th>day</th>\n",
       "      <th>month</th>\n",
       "      <th>duration</th>\n",
       "      <th>campaign</th>\n",
       "      <th>pdays</th>\n",
       "      <th>previous</th>\n",
       "      <th>poutcome</th>\n",
       "      <th>y</th>\n",
       "      <th>marital_married</th>\n",
       "      <th>marital_single</th>\n",
       "      <th>contact_telephone</th>\n",
       "      <th>contact_unknown</th>\n",
       "    </tr>\n",
       "  </thead>\n",
       "  <tbody>\n",
       "    <tr>\n",
       "      <th>0</th>\n",
       "      <td>58</td>\n",
       "      <td>4</td>\n",
       "      <td>0.294198</td>\n",
       "      <td>0</td>\n",
       "      <td>2143</td>\n",
       "      <td>1</td>\n",
       "      <td>0</td>\n",
       "      <td>5</td>\n",
       "      <td>8</td>\n",
       "      <td>261</td>\n",
       "      <td>1</td>\n",
       "      <td>-1</td>\n",
       "      <td>0</td>\n",
       "      <td>0.817478</td>\n",
       "      <td>0</td>\n",
       "      <td>1</td>\n",
       "      <td>0</td>\n",
       "      <td>0</td>\n",
       "      <td>1</td>\n",
       "    </tr>\n",
       "    <tr>\n",
       "      <th>1</th>\n",
       "      <td>44</td>\n",
       "      <td>9</td>\n",
       "      <td>0.513194</td>\n",
       "      <td>0</td>\n",
       "      <td>29</td>\n",
       "      <td>1</td>\n",
       "      <td>0</td>\n",
       "      <td>5</td>\n",
       "      <td>8</td>\n",
       "      <td>151</td>\n",
       "      <td>1</td>\n",
       "      <td>-1</td>\n",
       "      <td>0</td>\n",
       "      <td>0.817478</td>\n",
       "      <td>0</td>\n",
       "      <td>0</td>\n",
       "      <td>1</td>\n",
       "      <td>0</td>\n",
       "      <td>1</td>\n",
       "    </tr>\n",
       "  </tbody>\n",
       "</table>\n",
       "</div>"
      ],
      "text/plain": [
       "   age  job  education  default  balance  housing  loan  day  month  duration  \\\n",
       "0   58    4   0.294198        0     2143        1     0    5      8       261   \n",
       "1   44    9   0.513194        0       29        1     0    5      8       151   \n",
       "\n",
       "   campaign  pdays  previous  poutcome  y  marital_married  marital_single  \\\n",
       "0         1     -1         0  0.817478  0                1               0   \n",
       "1         1     -1         0  0.817478  0                0               1   \n",
       "\n",
       "   contact_telephone  contact_unknown  \n",
       "0                  0                1  \n",
       "1                  0                1  "
      ]
     },
     "execution_count": 24,
     "metadata": {},
     "output_type": "execute_result"
    }
   ],
   "source": [
    "df2.head(2)"
   ]
  },
  {
   "cell_type": "markdown",
   "id": "6e3fe67c",
   "metadata": {},
   "source": [
    "<h2><span class=\"label label-primary\">Transformation </span></h2>"
   ]
  },
  {
   "cell_type": "markdown",
   "id": "9d1e22d4",
   "metadata": {},
   "source": [
    "**Before transformation**"
   ]
  },
  {
   "cell_type": "code",
   "execution_count": 25,
   "id": "aa692c80",
   "metadata": {},
   "outputs": [
    {
     "data": {
      "text/plain": [
       "age          0.684818\n",
       "balance      8.360308\n",
       "day          0.093079\n",
       "duration     3.144318\n",
       "campaign     4.898650\n",
       "pdays        2.615715\n",
       "previous    41.846454\n",
       "dtype: float64"
      ]
     },
     "execution_count": 25,
     "metadata": {},
     "output_type": "execute_result"
    }
   ],
   "source": [
    "df1.skew() "
   ]
  },
  {
   "cell_type": "code",
   "execution_count": 26,
   "id": "4e9c0f95",
   "metadata": {},
   "outputs": [],
   "source": [
    "df3 = df2.copy(deep=True)"
   ]
  },
  {
   "cell_type": "code",
   "execution_count": 27,
   "id": "25107d38",
   "metadata": {},
   "outputs": [],
   "source": [
    "a = ['balance', 'pdays','duration', 'campaign','previous']"
   ]
  },
  {
   "cell_type": "code",
   "execution_count": 28,
   "id": "c5a9d9f1",
   "metadata": {},
   "outputs": [],
   "source": [
    "from sklearn.preprocessing import PowerTransformer"
   ]
  },
  {
   "cell_type": "code",
   "execution_count": 29,
   "id": "eff4e1a6",
   "metadata": {},
   "outputs": [],
   "source": [
    "b=PowerTransformer(method='yeo-johnson')\n",
    "\n",
    "df3[a] = b.fit_transform(df3[a])"
   ]
  },
  {
   "cell_type": "markdown",
   "id": "48181393",
   "metadata": {},
   "source": [
    "**After Transformation**"
   ]
  },
  {
   "cell_type": "code",
   "execution_count": 30,
   "id": "b5ff346c",
   "metadata": {},
   "outputs": [
    {
     "data": {
      "text/plain": [
       "balance     1.098582\n",
       "pdays       1.645213\n",
       "duration    0.018045\n",
       "campaign    0.230942\n",
       "previous    1.646051\n",
       "dtype: float64"
      ]
     },
     "execution_count": 30,
     "metadata": {},
     "output_type": "execute_result"
    }
   ],
   "source": [
    "df3[['balance', 'pdays','duration', 'campaign','previous']].skew()"
   ]
  },
  {
   "cell_type": "markdown",
   "id": "124062b2",
   "metadata": {},
   "source": [
    "<div class=\"alert alert-success\" role=\"alert\">\n",
    "Skewness is reduced\n",
    "</div>"
   ]
  },
  {
   "cell_type": "markdown",
   "id": "25571576",
   "metadata": {},
   "source": [
    "<h2><span class=\"label label-primary\">Scaling the data</span></h2>"
   ]
  },
  {
   "cell_type": "code",
   "execution_count": 31,
   "id": "82af5407",
   "metadata": {},
   "outputs": [],
   "source": [
    "df4 = df3.copy(deep=True)"
   ]
  },
  {
   "cell_type": "code",
   "execution_count": 32,
   "id": "68dfe452",
   "metadata": {},
   "outputs": [],
   "source": [
    "from sklearn.preprocessing import StandardScaler"
   ]
  },
  {
   "cell_type": "code",
   "execution_count": 33,
   "id": "583bc803",
   "metadata": {},
   "outputs": [],
   "source": [
    "ss = StandardScaler()"
   ]
  },
  {
   "cell_type": "code",
   "execution_count": 34,
   "id": "304f03a0",
   "metadata": {},
   "outputs": [],
   "source": [
    "col = ['balance', 'duration','day', 'campaign', 'pdays', 'previous']"
   ]
  },
  {
   "cell_type": "code",
   "execution_count": 35,
   "id": "729b7adc",
   "metadata": {},
   "outputs": [],
   "source": [
    "df4[col]= ss.fit_transform(df4[col])"
   ]
  },
  {
   "cell_type": "code",
   "execution_count": 36,
   "id": "595f046a",
   "metadata": {},
   "outputs": [
    {
     "data": {
      "text/html": [
       "<div>\n",
       "<style scoped>\n",
       "    .dataframe tbody tr th:only-of-type {\n",
       "        vertical-align: middle;\n",
       "    }\n",
       "\n",
       "    .dataframe tbody tr th {\n",
       "        vertical-align: top;\n",
       "    }\n",
       "\n",
       "    .dataframe thead th {\n",
       "        text-align: right;\n",
       "    }\n",
       "</style>\n",
       "<table border=\"1\" class=\"dataframe\">\n",
       "  <thead>\n",
       "    <tr style=\"text-align: right;\">\n",
       "      <th></th>\n",
       "      <th>age</th>\n",
       "      <th>job</th>\n",
       "      <th>education</th>\n",
       "      <th>default</th>\n",
       "      <th>balance</th>\n",
       "      <th>housing</th>\n",
       "      <th>loan</th>\n",
       "      <th>day</th>\n",
       "      <th>month</th>\n",
       "      <th>duration</th>\n",
       "      <th>campaign</th>\n",
       "      <th>pdays</th>\n",
       "      <th>previous</th>\n",
       "      <th>poutcome</th>\n",
       "      <th>y</th>\n",
       "      <th>marital_married</th>\n",
       "      <th>marital_single</th>\n",
       "      <th>contact_telephone</th>\n",
       "      <th>contact_unknown</th>\n",
       "    </tr>\n",
       "  </thead>\n",
       "  <tbody>\n",
       "    <tr>\n",
       "      <th>0</th>\n",
       "      <td>58</td>\n",
       "      <td>4</td>\n",
       "      <td>0.294198</td>\n",
       "      <td>0</td>\n",
       "      <td>0.414773</td>\n",
       "      <td>1</td>\n",
       "      <td>0</td>\n",
       "      <td>-1.298476</td>\n",
       "      <td>8</td>\n",
       "      <td>0.386077</td>\n",
       "      <td>-1.108191</td>\n",
       "      <td>-0.472533</td>\n",
       "      <td>-0.4725</td>\n",
       "      <td>0.817478</td>\n",
       "      <td>0</td>\n",
       "      <td>1</td>\n",
       "      <td>0</td>\n",
       "      <td>0</td>\n",
       "      <td>1</td>\n",
       "    </tr>\n",
       "    <tr>\n",
       "      <th>1</th>\n",
       "      <td>44</td>\n",
       "      <td>9</td>\n",
       "      <td>0.513194</td>\n",
       "      <td>0</td>\n",
       "      <td>-0.410774</td>\n",
       "      <td>1</td>\n",
       "      <td>0</td>\n",
       "      <td>-1.298476</td>\n",
       "      <td>8</td>\n",
       "      <td>-0.223033</td>\n",
       "      <td>-1.108191</td>\n",
       "      <td>-0.472533</td>\n",
       "      <td>-0.4725</td>\n",
       "      <td>0.817478</td>\n",
       "      <td>0</td>\n",
       "      <td>0</td>\n",
       "      <td>1</td>\n",
       "      <td>0</td>\n",
       "      <td>1</td>\n",
       "    </tr>\n",
       "  </tbody>\n",
       "</table>\n",
       "</div>"
      ],
      "text/plain": [
       "   age  job  education  default   balance  housing  loan       day  month  \\\n",
       "0   58    4   0.294198        0  0.414773        1     0 -1.298476      8   \n",
       "1   44    9   0.513194        0 -0.410774        1     0 -1.298476      8   \n",
       "\n",
       "   duration  campaign     pdays  previous  poutcome  y  marital_married  \\\n",
       "0  0.386077 -1.108191 -0.472533   -0.4725  0.817478  0                1   \n",
       "1 -0.223033 -1.108191 -0.472533   -0.4725  0.817478  0                0   \n",
       "\n",
       "   marital_single  contact_telephone  contact_unknown  \n",
       "0               0                  0                1  \n",
       "1               1                  0                1  "
      ]
     },
     "execution_count": 36,
     "metadata": {},
     "output_type": "execute_result"
    }
   ],
   "source": [
    "df4.head(2)"
   ]
  },
  {
   "cell_type": "markdown",
   "id": "69bf982c",
   "metadata": {},
   "source": [
    "<h2><span class=\"label label-primary\">Building the models</span></h2>"
   ]
  },
  {
   "cell_type": "markdown",
   "id": "0773d490",
   "metadata": {},
   "source": [
    "**Writing functions**"
   ]
  },
  {
   "cell_type": "code",
   "execution_count": 141,
   "id": "a32cb249",
   "metadata": {},
   "outputs": [],
   "source": [
    "lg   = LogisticRegression(random_state=10)\n",
    "dt   = DecisionTreeClassifier(random_state=10)\n",
    "rf   = RandomForestClassifier(random_state=10)\n",
    "knn  = KNeighborsClassifier()\n",
    "gb   = GaussianNB()\n",
    "ada  = AdaBoostClassifier(random_state=10)\n",
    "gbm  = GradientBoostingClassifier(random_state=10)\n",
    "xgb  = XGBClassifier(random_state=10)\n",
    "lgbm = LGBMClassifier(random_state=10)"
   ]
  },
  {
   "cell_type": "code",
   "execution_count": 38,
   "id": "b4a3c66a",
   "metadata": {},
   "outputs": [],
   "source": [
    "l1 = [lg,dt,rf,knn,gb,ada,gbm,xgb,lgbm]"
   ]
  },
  {
   "cell_type": "code",
   "execution_count": 39,
   "id": "3a3de4e8",
   "metadata": {},
   "outputs": [],
   "source": [
    "from sklearn.metrics import recall_score,precision_score,accuracy_score"
   ]
  },
  {
   "cell_type": "code",
   "execution_count": 40,
   "id": "cf349016",
   "metadata": {},
   "outputs": [],
   "source": [
    "def models(mod,xtrain,ytrain,xtest,ytest):\n",
    "    l = [str(mod).split('(')[0]]\n",
    "    model1 = mod.fit(xtrain,ytrain)\n",
    "    ypred = model1.predict(xtest)  \n",
    "    l.append(model1.score(xtrain,ytrain))   # Training accuracy\n",
    "    l.append(model1.score(xtest,ytest))     # Testing accuracy\n",
    "    # Confusion matrix\n",
    "    tn, fp, fn, tp = confusion_matrix(ytest,ypred).ravel()\n",
    "    l.append(tn)   \n",
    "    l.append(fp)\n",
    "    l.append(fn)\n",
    "    l.append(tp)\n",
    "    \n",
    "    l.append(round(recall_score(ytest,ypred),2))     # recall score\n",
    "    l.append(round(precision_score(ytest,ypred),2))  # Presicion score\n",
    "    l.append(round(f1_score(ytest,ypred),2))        # f1 score\n",
    "    return l"
   ]
  },
  {
   "cell_type": "code",
   "execution_count": 41,
   "id": "a9a0da47",
   "metadata": {},
   "outputs": [],
   "source": [
    "best = pd.DataFrame(columns = ['Model','Train_ACC','Test_ACC','TN','FP','FN','TP','recall','Precision','F1 score'])"
   ]
  },
  {
   "cell_type": "markdown",
   "id": "210021f6",
   "metadata": {},
   "source": [
    "### Before SMOTE "
   ]
  },
  {
   "cell_type": "code",
   "execution_count": 42,
   "id": "04a6eae5",
   "metadata": {},
   "outputs": [],
   "source": [
    "x = df4.drop(columns='y',axis=1)\n",
    "y = df4['y']"
   ]
  },
  {
   "cell_type": "code",
   "execution_count": 43,
   "id": "5a8228d2",
   "metadata": {},
   "outputs": [],
   "source": [
    "xtrain,xtest,ytrain,ytest =  train_test_split(x,y,test_size=0.20,random_state=10)"
   ]
  },
  {
   "cell_type": "markdown",
   "id": "d815a461",
   "metadata": {},
   "source": [
    "**Stats Model**"
   ]
  },
  {
   "cell_type": "code",
   "execution_count": 44,
   "id": "56250f78",
   "metadata": {},
   "outputs": [
    {
     "name": "stdout",
     "output_type": "stream",
     "text": [
      "Optimization terminated successfully.\n",
      "         Current function value: 0.245978\n",
      "         Iterations 8\n",
      "[[7778  216]\n",
      " [ 760  289]]\n",
      "              precision    recall  f1-score   support\n",
      "\n",
      "           0       0.91      0.97      0.94      7994\n",
      "           1       0.57      0.28      0.37      1049\n",
      "\n",
      "    accuracy                           0.89      9043\n",
      "   macro avg       0.74      0.62      0.66      9043\n",
      "weighted avg       0.87      0.89      0.87      9043\n",
      "\n"
     ]
    }
   ],
   "source": [
    "temp_train =  sma.add_constant(xtrain)\n",
    "temp_test = sma.add_constant(xtest)\n",
    "model = sma.Logit(ytrain,temp_train).fit()\n",
    "y_pred_prob = model.predict(temp_test)\n",
    "y_pred = [ 0 if x < 0.5 else 1 for x in y_pred_prob]\n",
    "print(confusion_matrix(ytest,y_pred))\n",
    "print(classification_report(ytest,y_pred))"
   ]
  },
  {
   "cell_type": "code",
   "execution_count": 45,
   "id": "1b8c0d61",
   "metadata": {},
   "outputs": [],
   "source": [
    "perf1 = models(lg,xtrain,ytrain,xtest,ytest)\n",
    "perf2 = models(dt,xtrain,ytrain,xtest,ytest)\n",
    "perf3 = models(rf,xtrain,ytrain,xtest,ytest)\n",
    "perf4 = models(knn,xtrain,ytrain,xtest,ytest)\n",
    "perf5 = models(gb,xtrain,ytrain,xtest,ytest)\n",
    "perf6 = models(ada,xtrain,ytrain,xtest,ytest)\n",
    "perf7 = models(gbm,xtrain,ytrain,xtest,ytest)\n",
    "perf8 = models(xgb,xtrain,ytrain,xtest,ytest)\n",
    "perf9 = models(lgbm,xtrain,ytrain,xtest,ytest)"
   ]
  },
  {
   "cell_type": "code",
   "execution_count": 46,
   "id": "b11982cf",
   "metadata": {},
   "outputs": [],
   "source": [
    "best.loc[len(best)] = perf1\n",
    "best.loc[len(best)] = perf2\n",
    "best.loc[len(best)] = perf3\n",
    "best.loc[len(best)] = perf4\n",
    "best.loc[len(best)] = perf5\n",
    "best.loc[len(best)] = perf6\n",
    "best.loc[len(best)] = perf7\n",
    "best.loc[len(best)] = perf8\n",
    "best.loc[len(best)] = perf9"
   ]
  },
  {
   "cell_type": "code",
   "execution_count": 47,
   "id": "d89475fb",
   "metadata": {
    "scrolled": true
   },
   "outputs": [
    {
     "data": {
      "text/html": [
       "<div>\n",
       "<style scoped>\n",
       "    .dataframe tbody tr th:only-of-type {\n",
       "        vertical-align: middle;\n",
       "    }\n",
       "\n",
       "    .dataframe tbody tr th {\n",
       "        vertical-align: top;\n",
       "    }\n",
       "\n",
       "    .dataframe thead th {\n",
       "        text-align: right;\n",
       "    }\n",
       "</style>\n",
       "<table border=\"1\" class=\"dataframe\">\n",
       "  <thead>\n",
       "    <tr style=\"text-align: right;\">\n",
       "      <th></th>\n",
       "      <th>Model</th>\n",
       "      <th>Train_ACC</th>\n",
       "      <th>Test_ACC</th>\n",
       "      <th>TN</th>\n",
       "      <th>FP</th>\n",
       "      <th>FN</th>\n",
       "      <th>TP</th>\n",
       "      <th>recall</th>\n",
       "      <th>Precision</th>\n",
       "      <th>F1 score</th>\n",
       "    </tr>\n",
       "  </thead>\n",
       "  <tbody>\n",
       "    <tr>\n",
       "      <th>7</th>\n",
       "      <td>XGBClassifier</td>\n",
       "      <td>0.953661</td>\n",
       "      <td>0.910096</td>\n",
       "      <td>7705</td>\n",
       "      <td>289</td>\n",
       "      <td>524</td>\n",
       "      <td>525</td>\n",
       "      <td>0.50</td>\n",
       "      <td>0.64</td>\n",
       "      <td>0.56</td>\n",
       "    </tr>\n",
       "    <tr>\n",
       "      <th>8</th>\n",
       "      <td>LGBMClassifier</td>\n",
       "      <td>0.929579</td>\n",
       "      <td>0.910870</td>\n",
       "      <td>7720</td>\n",
       "      <td>274</td>\n",
       "      <td>532</td>\n",
       "      <td>517</td>\n",
       "      <td>0.49</td>\n",
       "      <td>0.65</td>\n",
       "      <td>0.56</td>\n",
       "    </tr>\n",
       "    <tr>\n",
       "      <th>2</th>\n",
       "      <td>RandomForestClassifier</td>\n",
       "      <td>0.999972</td>\n",
       "      <td>0.905120</td>\n",
       "      <td>7751</td>\n",
       "      <td>243</td>\n",
       "      <td>615</td>\n",
       "      <td>434</td>\n",
       "      <td>0.41</td>\n",
       "      <td>0.64</td>\n",
       "      <td>0.50</td>\n",
       "    </tr>\n",
       "    <tr>\n",
       "      <th>6</th>\n",
       "      <td>GradientBoostingClassifier</td>\n",
       "      <td>0.908980</td>\n",
       "      <td>0.905894</td>\n",
       "      <td>7764</td>\n",
       "      <td>230</td>\n",
       "      <td>621</td>\n",
       "      <td>428</td>\n",
       "      <td>0.41</td>\n",
       "      <td>0.65</td>\n",
       "      <td>0.50</td>\n",
       "    </tr>\n",
       "    <tr>\n",
       "      <th>1</th>\n",
       "      <td>DecisionTreeClassifier</td>\n",
       "      <td>1.000000</td>\n",
       "      <td>0.875373</td>\n",
       "      <td>7436</td>\n",
       "      <td>558</td>\n",
       "      <td>569</td>\n",
       "      <td>480</td>\n",
       "      <td>0.46</td>\n",
       "      <td>0.46</td>\n",
       "      <td>0.46</td>\n",
       "    </tr>\n",
       "    <tr>\n",
       "      <th>5</th>\n",
       "      <td>AdaBoostClassifier</td>\n",
       "      <td>0.900852</td>\n",
       "      <td>0.898043</td>\n",
       "      <td>7745</td>\n",
       "      <td>249</td>\n",
       "      <td>673</td>\n",
       "      <td>376</td>\n",
       "      <td>0.36</td>\n",
       "      <td>0.60</td>\n",
       "      <td>0.45</td>\n",
       "    </tr>\n",
       "    <tr>\n",
       "      <th>4</th>\n",
       "      <td>GaussianNB</td>\n",
       "      <td>0.804274</td>\n",
       "      <td>0.806701</td>\n",
       "      <td>6802</td>\n",
       "      <td>1192</td>\n",
       "      <td>556</td>\n",
       "      <td>493</td>\n",
       "      <td>0.47</td>\n",
       "      <td>0.29</td>\n",
       "      <td>0.36</td>\n",
       "    </tr>\n",
       "    <tr>\n",
       "      <th>0</th>\n",
       "      <td>LogisticRegression</td>\n",
       "      <td>0.892363</td>\n",
       "      <td>0.889749</td>\n",
       "      <td>7787</td>\n",
       "      <td>207</td>\n",
       "      <td>790</td>\n",
       "      <td>259</td>\n",
       "      <td>0.25</td>\n",
       "      <td>0.56</td>\n",
       "      <td>0.34</td>\n",
       "    </tr>\n",
       "    <tr>\n",
       "      <th>3</th>\n",
       "      <td>KNeighborsClassifier</td>\n",
       "      <td>0.913045</td>\n",
       "      <td>0.885768</td>\n",
       "      <td>7776</td>\n",
       "      <td>218</td>\n",
       "      <td>815</td>\n",
       "      <td>234</td>\n",
       "      <td>0.22</td>\n",
       "      <td>0.52</td>\n",
       "      <td>0.31</td>\n",
       "    </tr>\n",
       "  </tbody>\n",
       "</table>\n",
       "</div>"
      ],
      "text/plain": [
       "                        Model  Train_ACC  Test_ACC    TN    FP   FN   TP  \\\n",
       "7               XGBClassifier   0.953661  0.910096  7705   289  524  525   \n",
       "8              LGBMClassifier   0.929579  0.910870  7720   274  532  517   \n",
       "2      RandomForestClassifier   0.999972  0.905120  7751   243  615  434   \n",
       "6  GradientBoostingClassifier   0.908980  0.905894  7764   230  621  428   \n",
       "1      DecisionTreeClassifier   1.000000  0.875373  7436   558  569  480   \n",
       "5          AdaBoostClassifier   0.900852  0.898043  7745   249  673  376   \n",
       "4                  GaussianNB   0.804274  0.806701  6802  1192  556  493   \n",
       "0          LogisticRegression   0.892363  0.889749  7787   207  790  259   \n",
       "3        KNeighborsClassifier   0.913045  0.885768  7776   218  815  234   \n",
       "\n",
       "   recall  Precision  F1 score  \n",
       "7    0.50       0.64      0.56  \n",
       "8    0.49       0.65      0.56  \n",
       "2    0.41       0.64      0.50  \n",
       "6    0.41       0.65      0.50  \n",
       "1    0.46       0.46      0.46  \n",
       "5    0.36       0.60      0.45  \n",
       "4    0.47       0.29      0.36  \n",
       "0    0.25       0.56      0.34  \n",
       "3    0.22       0.52      0.31  "
      ]
     },
     "execution_count": 47,
     "metadata": {},
     "output_type": "execute_result"
    }
   ],
   "source": [
    "best.sort_values(by='F1 score',ascending=False)"
   ]
  },
  {
   "cell_type": "markdown",
   "id": "248cdfb8",
   "metadata": {},
   "source": [
    "* In Base model without smote the maximum f1 score achived is 0.56 in XGB,LGBM"
   ]
  },
  {
   "cell_type": "markdown",
   "id": "fd7b96dc",
   "metadata": {},
   "source": [
    "### After SMOTE"
   ]
  },
  {
   "cell_type": "code",
   "execution_count": 48,
   "id": "b6766ecc",
   "metadata": {},
   "outputs": [],
   "source": [
    "x = df4.drop(columns='y',axis=1)\n",
    "y = df4['y']"
   ]
  },
  {
   "cell_type": "code",
   "execution_count": 49,
   "id": "acd0902a",
   "metadata": {},
   "outputs": [],
   "source": [
    "xtrain,xtest,ytrain,ytest =  train_test_split(x,y,test_size=0.20,random_state=10)"
   ]
  },
  {
   "cell_type": "code",
   "execution_count": 50,
   "id": "c60170cb",
   "metadata": {},
   "outputs": [],
   "source": [
    "smote = SMOTE(sampling_strategy='minority')\n",
    "xtrain,ytrain = smote.fit_resample(xtrain,ytrain)"
   ]
  },
  {
   "cell_type": "markdown",
   "id": "4c27afa3",
   "metadata": {},
   "source": [
    "**Stats Model**"
   ]
  },
  {
   "cell_type": "code",
   "execution_count": 51,
   "id": "9d449ad2",
   "metadata": {},
   "outputs": [
    {
     "name": "stdout",
     "output_type": "stream",
     "text": [
      "Optimization terminated successfully.\n",
      "         Current function value: 0.340659\n",
      "         Iterations 7\n",
      "[[6679 1315]\n",
      " [ 301  748]]\n",
      "              precision    recall  f1-score   support\n",
      "\n",
      "           0       0.96      0.84      0.89      7994\n",
      "           1       0.36      0.71      0.48      1049\n",
      "\n",
      "    accuracy                           0.82      9043\n",
      "   macro avg       0.66      0.77      0.69      9043\n",
      "weighted avg       0.89      0.82      0.84      9043\n",
      "\n"
     ]
    }
   ],
   "source": [
    "temp_train =  sma.add_constant(xtrain)\n",
    "temp_test = sma.add_constant(xtest)\n",
    "model = sma.Logit(ytrain,temp_train).fit()\n",
    "y_pred_prob = model.predict(temp_test)\n",
    "y_pred = [ 0 if x < 0.5 else 1 for x in y_pred_prob]\n",
    "print(confusion_matrix(ytest,y_pred))\n",
    "print(classification_report(ytest,y_pred))"
   ]
  },
  {
   "cell_type": "code",
   "execution_count": 52,
   "id": "be34f1ce",
   "metadata": {},
   "outputs": [],
   "source": [
    "best1 = pd.DataFrame(columns = ['Model','Train_ACC','Test_ACC','TN','FP','FN','TP','recall','Precision','F1 score'])"
   ]
  },
  {
   "cell_type": "code",
   "execution_count": 53,
   "id": "e6a39731",
   "metadata": {},
   "outputs": [],
   "source": [
    "perf1 = models(lg,xtrain,ytrain,xtest,ytest)\n",
    "perf2 = models(dt,xtrain,ytrain,xtest,ytest)\n",
    "perf3 = models(rf,xtrain,ytrain,xtest,ytest)\n",
    "perf4 = models(knn,xtrain,ytrain,xtest,ytest)\n",
    "perf5 = models(gb,xtrain,ytrain,xtest,ytest)\n",
    "perf6 = models(ada,xtrain,ytrain,xtest,ytest)\n",
    "perf7 = models(gbm,xtrain,ytrain,xtest,ytest)\n",
    "perf8 = models(xgb,xtrain,ytrain,xtest,ytest)\n",
    "perf9 = models(lgbm,xtrain,ytrain,xtest,ytest)"
   ]
  },
  {
   "cell_type": "code",
   "execution_count": 54,
   "id": "6bf901fa",
   "metadata": {},
   "outputs": [],
   "source": [
    "best1.loc[len(best1)] = perf1\n",
    "best1.loc[len(best1)] = perf2\n",
    "best1.loc[len(best1)] = perf3\n",
    "best1.loc[len(best1)] = perf4\n",
    "best1.loc[len(best1)] = perf5\n",
    "best1.loc[len(best1)] = perf6\n",
    "best1.loc[len(best1)] = perf7\n",
    "best1.loc[len(best1)] = perf8\n",
    "best1.loc[len(best1)] = perf9"
   ]
  },
  {
   "cell_type": "code",
   "execution_count": 55,
   "id": "6e4b7c6d",
   "metadata": {},
   "outputs": [
    {
     "data": {
      "text/html": [
       "<div>\n",
       "<style scoped>\n",
       "    .dataframe tbody tr th:only-of-type {\n",
       "        vertical-align: middle;\n",
       "    }\n",
       "\n",
       "    .dataframe tbody tr th {\n",
       "        vertical-align: top;\n",
       "    }\n",
       "\n",
       "    .dataframe thead th {\n",
       "        text-align: right;\n",
       "    }\n",
       "</style>\n",
       "<table border=\"1\" class=\"dataframe\">\n",
       "  <thead>\n",
       "    <tr style=\"text-align: right;\">\n",
       "      <th></th>\n",
       "      <th>Model</th>\n",
       "      <th>Train_ACC</th>\n",
       "      <th>Test_ACC</th>\n",
       "      <th>TN</th>\n",
       "      <th>FP</th>\n",
       "      <th>FN</th>\n",
       "      <th>TP</th>\n",
       "      <th>recall</th>\n",
       "      <th>Precision</th>\n",
       "      <th>F1 score</th>\n",
       "    </tr>\n",
       "  </thead>\n",
       "  <tbody>\n",
       "    <tr>\n",
       "      <th>8</th>\n",
       "      <td>LGBMClassifier</td>\n",
       "      <td>0.947710</td>\n",
       "      <td>0.903572</td>\n",
       "      <td>7529</td>\n",
       "      <td>465</td>\n",
       "      <td>407</td>\n",
       "      <td>642</td>\n",
       "      <td>0.61</td>\n",
       "      <td>0.58</td>\n",
       "      <td>0.60</td>\n",
       "    </tr>\n",
       "    <tr>\n",
       "      <th>7</th>\n",
       "      <td>XGBClassifier</td>\n",
       "      <td>0.969979</td>\n",
       "      <td>0.903904</td>\n",
       "      <td>7603</td>\n",
       "      <td>391</td>\n",
       "      <td>478</td>\n",
       "      <td>571</td>\n",
       "      <td>0.54</td>\n",
       "      <td>0.59</td>\n",
       "      <td>0.57</td>\n",
       "    </tr>\n",
       "    <tr>\n",
       "      <th>6</th>\n",
       "      <td>GradientBoostingClassifier</td>\n",
       "      <td>0.915811</td>\n",
       "      <td>0.875705</td>\n",
       "      <td>7196</td>\n",
       "      <td>798</td>\n",
       "      <td>326</td>\n",
       "      <td>723</td>\n",
       "      <td>0.69</td>\n",
       "      <td>0.48</td>\n",
       "      <td>0.56</td>\n",
       "    </tr>\n",
       "    <tr>\n",
       "      <th>2</th>\n",
       "      <td>RandomForestClassifier</td>\n",
       "      <td>1.000000</td>\n",
       "      <td>0.888533</td>\n",
       "      <td>7437</td>\n",
       "      <td>557</td>\n",
       "      <td>451</td>\n",
       "      <td>598</td>\n",
       "      <td>0.57</td>\n",
       "      <td>0.52</td>\n",
       "      <td>0.54</td>\n",
       "    </tr>\n",
       "    <tr>\n",
       "      <th>5</th>\n",
       "      <td>AdaBoostClassifier</td>\n",
       "      <td>0.896752</td>\n",
       "      <td>0.860997</td>\n",
       "      <td>7118</td>\n",
       "      <td>876</td>\n",
       "      <td>381</td>\n",
       "      <td>668</td>\n",
       "      <td>0.64</td>\n",
       "      <td>0.43</td>\n",
       "      <td>0.52</td>\n",
       "    </tr>\n",
       "    <tr>\n",
       "      <th>0</th>\n",
       "      <td>LogisticRegression</td>\n",
       "      <td>0.851228</td>\n",
       "      <td>0.814110</td>\n",
       "      <td>6614</td>\n",
       "      <td>1380</td>\n",
       "      <td>301</td>\n",
       "      <td>748</td>\n",
       "      <td>0.71</td>\n",
       "      <td>0.35</td>\n",
       "      <td>0.47</td>\n",
       "    </tr>\n",
       "    <tr>\n",
       "      <th>3</th>\n",
       "      <td>KNeighborsClassifier</td>\n",
       "      <td>0.936999</td>\n",
       "      <td>0.816654</td>\n",
       "      <td>6668</td>\n",
       "      <td>1326</td>\n",
       "      <td>332</td>\n",
       "      <td>717</td>\n",
       "      <td>0.68</td>\n",
       "      <td>0.35</td>\n",
       "      <td>0.46</td>\n",
       "    </tr>\n",
       "    <tr>\n",
       "      <th>1</th>\n",
       "      <td>DecisionTreeClassifier</td>\n",
       "      <td>1.000000</td>\n",
       "      <td>0.852483</td>\n",
       "      <td>7170</td>\n",
       "      <td>824</td>\n",
       "      <td>510</td>\n",
       "      <td>539</td>\n",
       "      <td>0.51</td>\n",
       "      <td>0.40</td>\n",
       "      <td>0.45</td>\n",
       "    </tr>\n",
       "    <tr>\n",
       "      <th>4</th>\n",
       "      <td>GaussianNB</td>\n",
       "      <td>0.751926</td>\n",
       "      <td>0.627778</td>\n",
       "      <td>4916</td>\n",
       "      <td>3078</td>\n",
       "      <td>288</td>\n",
       "      <td>761</td>\n",
       "      <td>0.73</td>\n",
       "      <td>0.20</td>\n",
       "      <td>0.31</td>\n",
       "    </tr>\n",
       "  </tbody>\n",
       "</table>\n",
       "</div>"
      ],
      "text/plain": [
       "                        Model  Train_ACC  Test_ACC    TN    FP   FN   TP  \\\n",
       "8              LGBMClassifier   0.947710  0.903572  7529   465  407  642   \n",
       "7               XGBClassifier   0.969979  0.903904  7603   391  478  571   \n",
       "6  GradientBoostingClassifier   0.915811  0.875705  7196   798  326  723   \n",
       "2      RandomForestClassifier   1.000000  0.888533  7437   557  451  598   \n",
       "5          AdaBoostClassifier   0.896752  0.860997  7118   876  381  668   \n",
       "0          LogisticRegression   0.851228  0.814110  6614  1380  301  748   \n",
       "3        KNeighborsClassifier   0.936999  0.816654  6668  1326  332  717   \n",
       "1      DecisionTreeClassifier   1.000000  0.852483  7170   824  510  539   \n",
       "4                  GaussianNB   0.751926  0.627778  4916  3078  288  761   \n",
       "\n",
       "   recall  Precision  F1 score  \n",
       "8    0.61       0.58      0.60  \n",
       "7    0.54       0.59      0.57  \n",
       "6    0.69       0.48      0.56  \n",
       "2    0.57       0.52      0.54  \n",
       "5    0.64       0.43      0.52  \n",
       "0    0.71       0.35      0.47  \n",
       "3    0.68       0.35      0.46  \n",
       "1    0.51       0.40      0.45  \n",
       "4    0.73       0.20      0.31  "
      ]
     },
     "execution_count": 55,
     "metadata": {},
     "output_type": "execute_result"
    }
   ],
   "source": [
    "best1.sort_values(by='F1 score',ascending=False)"
   ]
  },
  {
   "cell_type": "markdown",
   "id": "9a581ba2",
   "metadata": {},
   "source": [
    "* In Base model after smote the maximum f1 score achieved is 0.60,0.57,0.56 by  LGBM, XGB,Gradient Boosting\n",
    "* The highest TP is achieved by Logistic Regression,Gaussian NB Model at a f1 score of 0.47,0.31"
   ]
  },
  {
   "cell_type": "code",
   "execution_count": 56,
   "id": "78455e83",
   "metadata": {},
   "outputs": [],
   "source": [
    "feature_imp = pd.DataFrame()\n",
    "feature_imp['Features'] = xtrain.columns\n",
    "feature_imp['Importance'] = lgbm.feature_importances_"
   ]
  },
  {
   "cell_type": "code",
   "execution_count": 57,
   "id": "2741fdcc",
   "metadata": {},
   "outputs": [
    {
     "data": {
      "image/png": "[encoded data removed]",
      "text/plain": [
       "<Figure size 640x480 with 1 Axes>"
      ]
     },
     "metadata": {},
     "output_type": "display_data"
    }
   ],
   "source": [
    "feature_imp1=feature_imp.sort_values(by='Importance',ascending=False)\n",
    "sns.barplot(x='Importance',y='Features',data=feature_imp1)\n",
    "plt.show()"
   ]
  },
  {
   "cell_type": "markdown",
   "id": "4db3d3c6",
   "metadata": {},
   "source": [
    "<h2><span class=\"label label-primary\">Adding Features</span></h2>"
   ]
  },
  {
   "cell_type": "markdown",
   "id": "e492c614",
   "metadata": {},
   "source": [
    "**1.Per call time**"
   ]
  },
  {
   "cell_type": "markdown",
   "id": "1f0d00d0",
   "metadata": {},
   "source": [
    "* Per call time feature is the duration divided by number of calls"
   ]
  },
  {
   "cell_type": "code",
   "execution_count": 58,
   "id": "9663a2f6",
   "metadata": {},
   "outputs": [],
   "source": [
    "df5 = df4.copy(deep=True)"
   ]
  },
  {
   "cell_type": "code",
   "execution_count": 59,
   "id": "ac6fca03",
   "metadata": {},
   "outputs": [],
   "source": [
    "df5['per_call_time'] = round((df1.duration/(df1.campaign*60)),2)"
   ]
  },
  {
   "cell_type": "code",
   "execution_count": 60,
   "id": "c0ab4310",
   "metadata": {},
   "outputs": [],
   "source": [
    "df5[['per_call_time']]= ss.fit_transform(df5[['per_call_time']])"
   ]
  },
  {
   "cell_type": "code",
   "execution_count": 61,
   "id": "ad16ad05",
   "metadata": {},
   "outputs": [],
   "source": [
    "best2 = pd.DataFrame(columns = ['Model','Train_ACC','Test_ACC','TN','FP','FN','TP','recall','Precision','F1 score'])"
   ]
  },
  {
   "cell_type": "code",
   "execution_count": 62,
   "id": "6c3b2f20",
   "metadata": {},
   "outputs": [],
   "source": [
    "x = df5.drop(columns='y',axis=1)\n",
    "y = df5['y']"
   ]
  },
  {
   "cell_type": "code",
   "execution_count": 63,
   "id": "e7bfc32b",
   "metadata": {},
   "outputs": [],
   "source": [
    "xtrain,xtest,ytrain,ytest =  train_test_split(x,y,test_size=0.20,random_state=10)"
   ]
  },
  {
   "cell_type": "code",
   "execution_count": 64,
   "id": "cb1b7d6e",
   "metadata": {},
   "outputs": [],
   "source": [
    "smote = SMOTE(sampling_strategy='minority')\n",
    "xtrain,ytrain = smote.fit_resample(xtrain,ytrain)"
   ]
  },
  {
   "cell_type": "code",
   "execution_count": 65,
   "id": "f6cd57aa",
   "metadata": {},
   "outputs": [],
   "source": [
    "perf1 = models(lg,xtrain,ytrain,xtest,ytest)\n",
    "perf2 = models(dt,xtrain,ytrain,xtest,ytest)\n",
    "perf3 = models(rf,xtrain,ytrain,xtest,ytest)\n",
    "perf4 = models(knn,xtrain,ytrain,xtest,ytest)\n",
    "perf5 = models(gb,xtrain,ytrain,xtest,ytest)\n",
    "perf6 = models(ada,xtrain,ytrain,xtest,ytest)\n",
    "perf7 = models(gbm,xtrain,ytrain,xtest,ytest)\n",
    "perf8 = models(xgb,xtrain,ytrain,xtest,ytest)\n",
    "perf9 = models(lgbm,xtrain,ytrain,xtest,ytest)"
   ]
  },
  {
   "cell_type": "code",
   "execution_count": 66,
   "id": "283bc842",
   "metadata": {},
   "outputs": [],
   "source": [
    "best2.loc[len(best2)] = perf1\n",
    "best2.loc[len(best2)] = perf2\n",
    "best2.loc[len(best2)] = perf3\n",
    "best2.loc[len(best2)] = perf4\n",
    "best2.loc[len(best2)] = perf5\n",
    "best2.loc[len(best2)] = perf6\n",
    "best2.loc[len(best2)] = perf7\n",
    "best2.loc[len(best2)] = perf8\n",
    "best2.loc[len(best2)] = perf9"
   ]
  },
  {
   "cell_type": "code",
   "execution_count": 67,
   "id": "04db0479",
   "metadata": {},
   "outputs": [
    {
     "data": {
      "text/html": [
       "<div>\n",
       "<style scoped>\n",
       "    .dataframe tbody tr th:only-of-type {\n",
       "        vertical-align: middle;\n",
       "    }\n",
       "\n",
       "    .dataframe tbody tr th {\n",
       "        vertical-align: top;\n",
       "    }\n",
       "\n",
       "    .dataframe thead th {\n",
       "        text-align: right;\n",
       "    }\n",
       "</style>\n",
       "<table border=\"1\" class=\"dataframe\">\n",
       "  <thead>\n",
       "    <tr style=\"text-align: right;\">\n",
       "      <th></th>\n",
       "      <th>Model</th>\n",
       "      <th>Train_ACC</th>\n",
       "      <th>Test_ACC</th>\n",
       "      <th>TN</th>\n",
       "      <th>FP</th>\n",
       "      <th>FN</th>\n",
       "      <th>TP</th>\n",
       "      <th>recall</th>\n",
       "      <th>Precision</th>\n",
       "      <th>F1 score</th>\n",
       "    </tr>\n",
       "  </thead>\n",
       "  <tbody>\n",
       "    <tr>\n",
       "      <th>8</th>\n",
       "      <td>LGBMClassifier</td>\n",
       "      <td>0.947429</td>\n",
       "      <td>0.903461</td>\n",
       "      <td>7528</td>\n",
       "      <td>466</td>\n",
       "      <td>407</td>\n",
       "      <td>642</td>\n",
       "      <td>0.61</td>\n",
       "      <td>0.58</td>\n",
       "      <td>0.60</td>\n",
       "    </tr>\n",
       "    <tr>\n",
       "      <th>2</th>\n",
       "      <td>RandomForestClassifier</td>\n",
       "      <td>1.000000</td>\n",
       "      <td>0.890302</td>\n",
       "      <td>7426</td>\n",
       "      <td>568</td>\n",
       "      <td>424</td>\n",
       "      <td>625</td>\n",
       "      <td>0.60</td>\n",
       "      <td>0.52</td>\n",
       "      <td>0.56</td>\n",
       "    </tr>\n",
       "    <tr>\n",
       "      <th>6</th>\n",
       "      <td>GradientBoostingClassifier</td>\n",
       "      <td>0.916186</td>\n",
       "      <td>0.873383</td>\n",
       "      <td>7179</td>\n",
       "      <td>815</td>\n",
       "      <td>330</td>\n",
       "      <td>719</td>\n",
       "      <td>0.69</td>\n",
       "      <td>0.47</td>\n",
       "      <td>0.56</td>\n",
       "    </tr>\n",
       "    <tr>\n",
       "      <th>7</th>\n",
       "      <td>XGBClassifier</td>\n",
       "      <td>0.969823</td>\n",
       "      <td>0.904235</td>\n",
       "      <td>7618</td>\n",
       "      <td>376</td>\n",
       "      <td>490</td>\n",
       "      <td>559</td>\n",
       "      <td>0.53</td>\n",
       "      <td>0.60</td>\n",
       "      <td>0.56</td>\n",
       "    </tr>\n",
       "    <tr>\n",
       "      <th>5</th>\n",
       "      <td>AdaBoostClassifier</td>\n",
       "      <td>0.895578</td>\n",
       "      <td>0.860334</td>\n",
       "      <td>7102</td>\n",
       "      <td>892</td>\n",
       "      <td>371</td>\n",
       "      <td>678</td>\n",
       "      <td>0.65</td>\n",
       "      <td>0.43</td>\n",
       "      <td>0.52</td>\n",
       "    </tr>\n",
       "    <tr>\n",
       "      <th>0</th>\n",
       "      <td>LogisticRegression</td>\n",
       "      <td>0.848566</td>\n",
       "      <td>0.814221</td>\n",
       "      <td>6612</td>\n",
       "      <td>1382</td>\n",
       "      <td>298</td>\n",
       "      <td>751</td>\n",
       "      <td>0.72</td>\n",
       "      <td>0.35</td>\n",
       "      <td>0.47</td>\n",
       "    </tr>\n",
       "    <tr>\n",
       "      <th>3</th>\n",
       "      <td>KNeighborsClassifier</td>\n",
       "      <td>0.938142</td>\n",
       "      <td>0.816654</td>\n",
       "      <td>6662</td>\n",
       "      <td>1332</td>\n",
       "      <td>326</td>\n",
       "      <td>723</td>\n",
       "      <td>0.69</td>\n",
       "      <td>0.35</td>\n",
       "      <td>0.47</td>\n",
       "    </tr>\n",
       "    <tr>\n",
       "      <th>1</th>\n",
       "      <td>DecisionTreeClassifier</td>\n",
       "      <td>1.000000</td>\n",
       "      <td>0.850824</td>\n",
       "      <td>7151</td>\n",
       "      <td>843</td>\n",
       "      <td>506</td>\n",
       "      <td>543</td>\n",
       "      <td>0.52</td>\n",
       "      <td>0.39</td>\n",
       "      <td>0.45</td>\n",
       "    </tr>\n",
       "    <tr>\n",
       "      <th>4</th>\n",
       "      <td>GaussianNB</td>\n",
       "      <td>0.784860</td>\n",
       "      <td>0.678425</td>\n",
       "      <td>5357</td>\n",
       "      <td>2637</td>\n",
       "      <td>271</td>\n",
       "      <td>778</td>\n",
       "      <td>0.74</td>\n",
       "      <td>0.23</td>\n",
       "      <td>0.35</td>\n",
       "    </tr>\n",
       "  </tbody>\n",
       "</table>\n",
       "</div>"
      ],
      "text/plain": [
       "                        Model  Train_ACC  Test_ACC    TN    FP   FN   TP  \\\n",
       "8              LGBMClassifier   0.947429  0.903461  7528   466  407  642   \n",
       "2      RandomForestClassifier   1.000000  0.890302  7426   568  424  625   \n",
       "6  GradientBoostingClassifier   0.916186  0.873383  7179   815  330  719   \n",
       "7               XGBClassifier   0.969823  0.904235  7618   376  490  559   \n",
       "5          AdaBoostClassifier   0.895578  0.860334  7102   892  371  678   \n",
       "0          LogisticRegression   0.848566  0.814221  6612  1382  298  751   \n",
       "3        KNeighborsClassifier   0.938142  0.816654  6662  1332  326  723   \n",
       "1      DecisionTreeClassifier   1.000000  0.850824  7151   843  506  543   \n",
       "4                  GaussianNB   0.784860  0.678425  5357  2637  271  778   \n",
       "\n",
       "   recall  Precision  F1 score  \n",
       "8    0.61       0.58      0.60  \n",
       "2    0.60       0.52      0.56  \n",
       "6    0.69       0.47      0.56  \n",
       "7    0.53       0.60      0.56  \n",
       "5    0.65       0.43      0.52  \n",
       "0    0.72       0.35      0.47  \n",
       "3    0.69       0.35      0.47  \n",
       "1    0.52       0.39      0.45  \n",
       "4    0.74       0.23      0.35  "
      ]
     },
     "execution_count": 67,
     "metadata": {},
     "output_type": "execute_result"
    }
   ],
   "source": [
    "best2.sort_values(by='F1 score',ascending=False)"
   ]
  },
  {
   "cell_type": "markdown",
   "id": "2bae03c5",
   "metadata": {},
   "source": [
    "* In Base model after smote the maximum f1 score achieved is LGBM(0.60),XGB(0.57),Gradient Boosting(0.56)\n",
    "* Adding per_call_time feature, the f1_score of LGBM(0.60),GBM(0.56),XGB(0.56) "
   ]
  },
  {
   "cell_type": "markdown",
   "id": "9b3ef2fa",
   "metadata": {},
   "source": [
    "**2.Binning of job**"
   ]
  },
  {
   "cell_type": "code",
   "execution_count": 68,
   "id": "67fc65c7",
   "metadata": {},
   "outputs": [],
   "source": [
    "df6 = df4.copy(deep=True)"
   ]
  },
  {
   "cell_type": "code",
   "execution_count": 69,
   "id": "39515b85",
   "metadata": {},
   "outputs": [],
   "source": [
    "unemp = ['student','unemployed','retired','unknown']\n",
    "blue  = ['blue-collar','technician','services','housemaid','self-employed']\n",
    "white = ['management','admin.','entrepreneur']"
   ]
  },
  {
   "cell_type": "code",
   "execution_count": 70,
   "id": "cdf45193",
   "metadata": {},
   "outputs": [],
   "source": [
    "l = []\n",
    "for i in df1.job:\n",
    "    if i in unemp:\n",
    "        l.append('unemployed')\n",
    "    elif i in blue:\n",
    "        l.append('blue-collar')\n",
    "    elif i in white:\n",
    "        l.append('white-collar')"
   ]
  },
  {
   "cell_type": "code",
   "execution_count": 71,
   "id": "f0917f02",
   "metadata": {},
   "outputs": [],
   "source": [
    "df6['job_binned']=l "
   ]
  },
  {
   "cell_type": "code",
   "execution_count": 72,
   "id": "b2ad0497",
   "metadata": {},
   "outputs": [],
   "source": [
    "b =df6['job_binned'].value_counts(normalize=True)\n",
    "df6['job_binned']=df6['job_binned'].map(b)"
   ]
  },
  {
   "cell_type": "code",
   "execution_count": 73,
   "id": "13fe6942",
   "metadata": {},
   "outputs": [],
   "source": [
    "x = df6.drop(columns='y',axis=1)\n",
    "y = df6['y']"
   ]
  },
  {
   "cell_type": "code",
   "execution_count": 74,
   "id": "3b5689f7",
   "metadata": {},
   "outputs": [],
   "source": [
    "xtrain,xtest,ytrain,ytest =  train_test_split(x,y,test_size=0.20,random_state=10)"
   ]
  },
  {
   "cell_type": "code",
   "execution_count": 75,
   "id": "4fa44ba6",
   "metadata": {},
   "outputs": [],
   "source": [
    "smote = SMOTE(sampling_strategy='minority')\n",
    "xtrain,ytrain = smote.fit_resample(xtrain,ytrain)"
   ]
  },
  {
   "cell_type": "code",
   "execution_count": 76,
   "id": "590e8e70",
   "metadata": {},
   "outputs": [],
   "source": [
    "best3 = pd.DataFrame(columns = ['Model','Train_ACC','Test_ACC','TN','FP','FN','TP','recall','Precision','F1 score'])"
   ]
  },
  {
   "cell_type": "code",
   "execution_count": 77,
   "id": "787836f1",
   "metadata": {},
   "outputs": [],
   "source": [
    "perf1 = models(lg,xtrain,ytrain,xtest,ytest)\n",
    "perf2 = models(dt,xtrain,ytrain,xtest,ytest)\n",
    "perf3 = models(rf,xtrain,ytrain,xtest,ytest)\n",
    "perf4 = models(knn,xtrain,ytrain,xtest,ytest)\n",
    "perf5 = models(gb,xtrain,ytrain,xtest,ytest)\n",
    "perf6 = models(ada,xtrain,ytrain,xtest,ytest)\n",
    "perf7 = models(gbm,xtrain,ytrain,xtest,ytest)\n",
    "perf8 = models(xgb,xtrain,ytrain,xtest,ytest)\n",
    "perf9 = models(lgbm,xtrain,ytrain,xtest,ytest)"
   ]
  },
  {
   "cell_type": "code",
   "execution_count": 78,
   "id": "eb715200",
   "metadata": {},
   "outputs": [],
   "source": [
    "best3.loc[len(best3)] = perf1\n",
    "best3.loc[len(best3)] = perf2\n",
    "best3.loc[len(best3)] = perf3\n",
    "best3.loc[len(best3)] = perf4\n",
    "best3.loc[len(best3)] = perf5\n",
    "best3.loc[len(best3)] = perf6\n",
    "best3.loc[len(best3)] = perf7\n",
    "best3.loc[len(best3)] = perf8\n",
    "best3.loc[len(best3)] = perf9"
   ]
  },
  {
   "cell_type": "code",
   "execution_count": 79,
   "id": "5a57b951",
   "metadata": {},
   "outputs": [
    {
     "data": {
      "text/html": [
       "<div>\n",
       "<style scoped>\n",
       "    .dataframe tbody tr th:only-of-type {\n",
       "        vertical-align: middle;\n",
       "    }\n",
       "\n",
       "    .dataframe tbody tr th {\n",
       "        vertical-align: top;\n",
       "    }\n",
       "\n",
       "    .dataframe thead th {\n",
       "        text-align: right;\n",
       "    }\n",
       "</style>\n",
       "<table border=\"1\" class=\"dataframe\">\n",
       "  <thead>\n",
       "    <tr style=\"text-align: right;\">\n",
       "      <th></th>\n",
       "      <th>Model</th>\n",
       "      <th>Train_ACC</th>\n",
       "      <th>Test_ACC</th>\n",
       "      <th>TN</th>\n",
       "      <th>FP</th>\n",
       "      <th>FN</th>\n",
       "      <th>TP</th>\n",
       "      <th>recall</th>\n",
       "      <th>Precision</th>\n",
       "      <th>F1 score</th>\n",
       "    </tr>\n",
       "  </thead>\n",
       "  <tbody>\n",
       "    <tr>\n",
       "      <th>8</th>\n",
       "      <td>LGBMClassifier</td>\n",
       "      <td>0.948337</td>\n",
       "      <td>0.904567</td>\n",
       "      <td>7551</td>\n",
       "      <td>443</td>\n",
       "      <td>420</td>\n",
       "      <td>629</td>\n",
       "      <td>0.60</td>\n",
       "      <td>0.59</td>\n",
       "      <td>0.59</td>\n",
       "    </tr>\n",
       "    <tr>\n",
       "      <th>6</th>\n",
       "      <td>GradientBoostingClassifier</td>\n",
       "      <td>0.919193</td>\n",
       "      <td>0.878359</td>\n",
       "      <td>7224</td>\n",
       "      <td>770</td>\n",
       "      <td>330</td>\n",
       "      <td>719</td>\n",
       "      <td>0.69</td>\n",
       "      <td>0.48</td>\n",
       "      <td>0.57</td>\n",
       "    </tr>\n",
       "    <tr>\n",
       "      <th>7</th>\n",
       "      <td>XGBClassifier</td>\n",
       "      <td>0.968210</td>\n",
       "      <td>0.905562</td>\n",
       "      <td>7632</td>\n",
       "      <td>362</td>\n",
       "      <td>492</td>\n",
       "      <td>557</td>\n",
       "      <td>0.53</td>\n",
       "      <td>0.61</td>\n",
       "      <td>0.57</td>\n",
       "    </tr>\n",
       "    <tr>\n",
       "      <th>2</th>\n",
       "      <td>RandomForestClassifier</td>\n",
       "      <td>1.000000</td>\n",
       "      <td>0.890634</td>\n",
       "      <td>7470</td>\n",
       "      <td>524</td>\n",
       "      <td>465</td>\n",
       "      <td>584</td>\n",
       "      <td>0.56</td>\n",
       "      <td>0.53</td>\n",
       "      <td>0.54</td>\n",
       "    </tr>\n",
       "    <tr>\n",
       "      <th>5</th>\n",
       "      <td>AdaBoostClassifier</td>\n",
       "      <td>0.899524</td>\n",
       "      <td>0.867411</td>\n",
       "      <td>7171</td>\n",
       "      <td>823</td>\n",
       "      <td>376</td>\n",
       "      <td>673</td>\n",
       "      <td>0.64</td>\n",
       "      <td>0.45</td>\n",
       "      <td>0.53</td>\n",
       "    </tr>\n",
       "    <tr>\n",
       "      <th>0</th>\n",
       "      <td>LogisticRegression</td>\n",
       "      <td>0.854438</td>\n",
       "      <td>0.817317</td>\n",
       "      <td>6648</td>\n",
       "      <td>1346</td>\n",
       "      <td>306</td>\n",
       "      <td>743</td>\n",
       "      <td>0.71</td>\n",
       "      <td>0.36</td>\n",
       "      <td>0.47</td>\n",
       "    </tr>\n",
       "    <tr>\n",
       "      <th>1</th>\n",
       "      <td>DecisionTreeClassifier</td>\n",
       "      <td>1.000000</td>\n",
       "      <td>0.856685</td>\n",
       "      <td>7202</td>\n",
       "      <td>792</td>\n",
       "      <td>504</td>\n",
       "      <td>545</td>\n",
       "      <td>0.52</td>\n",
       "      <td>0.41</td>\n",
       "      <td>0.46</td>\n",
       "    </tr>\n",
       "    <tr>\n",
       "      <th>3</th>\n",
       "      <td>KNeighborsClassifier</td>\n",
       "      <td>0.936513</td>\n",
       "      <td>0.813557</td>\n",
       "      <td>6665</td>\n",
       "      <td>1329</td>\n",
       "      <td>357</td>\n",
       "      <td>692</td>\n",
       "      <td>0.66</td>\n",
       "      <td>0.34</td>\n",
       "      <td>0.45</td>\n",
       "    </tr>\n",
       "    <tr>\n",
       "      <th>4</th>\n",
       "      <td>GaussianNB</td>\n",
       "      <td>0.756562</td>\n",
       "      <td>0.634082</td>\n",
       "      <td>4972</td>\n",
       "      <td>3022</td>\n",
       "      <td>287</td>\n",
       "      <td>762</td>\n",
       "      <td>0.73</td>\n",
       "      <td>0.20</td>\n",
       "      <td>0.32</td>\n",
       "    </tr>\n",
       "  </tbody>\n",
       "</table>\n",
       "</div>"
      ],
      "text/plain": [
       "                        Model  Train_ACC  Test_ACC    TN    FP   FN   TP  \\\n",
       "8              LGBMClassifier   0.948337  0.904567  7551   443  420  629   \n",
       "6  GradientBoostingClassifier   0.919193  0.878359  7224   770  330  719   \n",
       "7               XGBClassifier   0.968210  0.905562  7632   362  492  557   \n",
       "2      RandomForestClassifier   1.000000  0.890634  7470   524  465  584   \n",
       "5          AdaBoostClassifier   0.899524  0.867411  7171   823  376  673   \n",
       "0          LogisticRegression   0.854438  0.817317  6648  1346  306  743   \n",
       "1      DecisionTreeClassifier   1.000000  0.856685  7202   792  504  545   \n",
       "3        KNeighborsClassifier   0.936513  0.813557  6665  1329  357  692   \n",
       "4                  GaussianNB   0.756562  0.634082  4972  3022  287  762   \n",
       "\n",
       "   recall  Precision  F1 score  \n",
       "8    0.60       0.59      0.59  \n",
       "6    0.69       0.48      0.57  \n",
       "7    0.53       0.61      0.57  \n",
       "2    0.56       0.53      0.54  \n",
       "5    0.64       0.45      0.53  \n",
       "0    0.71       0.36      0.47  \n",
       "1    0.52       0.41      0.46  \n",
       "3    0.66       0.34      0.45  \n",
       "4    0.73       0.20      0.32  "
      ]
     },
     "execution_count": 79,
     "metadata": {},
     "output_type": "execute_result"
    }
   ],
   "source": [
    "best3.sort_values(by='F1 score',ascending=False)"
   ]
  },
  {
   "cell_type": "markdown",
   "id": "e7be5f52",
   "metadata": {},
   "source": [
    "* In Base model after smote the maximum f1 score achieved is LGBM(0.60), XGB(0.57), Gradient Boosting(0.56)\n",
    "* Adding per_call_time feature, the f1_score of LGBM(0.59), GBM(0.56), and Guassian NB has low f1_score\n",
    "* Adding the job category maximum f1 score achieved is LGBM(0.59), XGB(0.57), Gradient Boosting(0.57)"
   ]
  },
  {
   "cell_type": "markdown",
   "id": "82483a70",
   "metadata": {},
   "source": [
    "**3.Binning of Age**"
   ]
  },
  {
   "cell_type": "code",
   "execution_count": 80,
   "id": "77d42d68",
   "metadata": {},
   "outputs": [],
   "source": [
    "df7 = df4.copy(deep=True)"
   ]
  },
  {
   "cell_type": "code",
   "execution_count": 81,
   "id": "17c12866",
   "metadata": {},
   "outputs": [],
   "source": [
    "l=[]\n",
    "for i in df1['age']:\n",
    "    if (i>=18) & (i<=39):\n",
    "        a='young'\n",
    "        l.append(a)\n",
    "    elif (i>=40) & (i<=60):\n",
    "        a='adult'\n",
    "        l.append(a)\n",
    "    elif (i>=61) :\n",
    "        a='old'\n",
    "        l.append(a)"
   ]
  },
  {
   "cell_type": "code",
   "execution_count": 82,
   "id": "fb379b9e",
   "metadata": {},
   "outputs": [],
   "source": [
    "df7['age_binned'] = l "
   ]
  },
  {
   "cell_type": "code",
   "execution_count": 83,
   "id": "f1949294",
   "metadata": {},
   "outputs": [],
   "source": [
    "b =df7['age_binned'].value_counts(normalize=True)\n",
    "df7['age_binned']=df7['age_binned'].map(b)"
   ]
  },
  {
   "cell_type": "code",
   "execution_count": 84,
   "id": "e085d264",
   "metadata": {},
   "outputs": [],
   "source": [
    "x = df7.drop(columns='y',axis=1)\n",
    "y = df7['y']"
   ]
  },
  {
   "cell_type": "code",
   "execution_count": 91,
   "id": "f450d0ef",
   "metadata": {},
   "outputs": [],
   "source": [
    "xtrain,xtest,ytrain,ytest =  train_test_split(x,y,test_size=0.20,random_state=10)"
   ]
  },
  {
   "cell_type": "code",
   "execution_count": 92,
   "id": "39701578",
   "metadata": {},
   "outputs": [],
   "source": [
    "smote = SMOTE(sampling_strategy='minority')\n",
    "xtrain,ytrain = smote.fit_resample(xtrain,ytrain)"
   ]
  },
  {
   "cell_type": "code",
   "execution_count": 93,
   "id": "8a34b5d0",
   "metadata": {},
   "outputs": [],
   "source": [
    "best4 = pd.DataFrame(columns = ['Model','Train_ACC','Test_ACC','TN','FP','FN','TP','recall','Precision','F1 score'])"
   ]
  },
  {
   "cell_type": "code",
   "execution_count": 94,
   "id": "0494cbb7",
   "metadata": {},
   "outputs": [],
   "source": [
    "perf1 = models(lg,xtrain,ytrain,xtest,ytest)\n",
    "perf2 = models(dt,xtrain,ytrain,xtest,ytest)\n",
    "perf3 = models(rf,xtrain,ytrain,xtest,ytest)\n",
    "perf4 = models(knn,xtrain,ytrain,xtest,ytest)\n",
    "perf5 = models(gb,xtrain,ytrain,xtest,ytest)\n",
    "perf6 = models(ada,xtrain,ytrain,xtest,ytest)\n",
    "perf7 = models(gbm,xtrain,ytrain,xtest,ytest)\n",
    "perf8 = models(xgb,xtrain,ytrain,xtest,ytest)\n",
    "perf9 = models(lgbm,xtrain,ytrain,xtest,ytest)"
   ]
  },
  {
   "cell_type": "code",
   "execution_count": 95,
   "id": "f1df8909",
   "metadata": {},
   "outputs": [],
   "source": [
    "best4.loc[len(best4)] = perf1\n",
    "best4.loc[len(best4)] = perf2\n",
    "best4.loc[len(best4)] = perf3\n",
    "best4.loc[len(best4)] = perf4\n",
    "best4.loc[len(best4)] = perf5\n",
    "best4.loc[len(best4)] = perf6\n",
    "best4.loc[len(best4)] = perf7\n",
    "best4.loc[len(best4)] = perf8\n",
    "best4.loc[len(best4)] = perf9"
   ]
  },
  {
   "cell_type": "code",
   "execution_count": 96,
   "id": "75beeb3b",
   "metadata": {},
   "outputs": [
    {
     "data": {
      "text/html": [
       "<div>\n",
       "<style scoped>\n",
       "    .dataframe tbody tr th:only-of-type {\n",
       "        vertical-align: middle;\n",
       "    }\n",
       "\n",
       "    .dataframe tbody tr th {\n",
       "        vertical-align: top;\n",
       "    }\n",
       "\n",
       "    .dataframe thead th {\n",
       "        text-align: right;\n",
       "    }\n",
       "</style>\n",
       "<table border=\"1\" class=\"dataframe\">\n",
       "  <thead>\n",
       "    <tr style=\"text-align: right;\">\n",
       "      <th></th>\n",
       "      <th>Model</th>\n",
       "      <th>Train_ACC</th>\n",
       "      <th>Test_ACC</th>\n",
       "      <th>TN</th>\n",
       "      <th>FP</th>\n",
       "      <th>FN</th>\n",
       "      <th>TP</th>\n",
       "      <th>recall</th>\n",
       "      <th>Precision</th>\n",
       "      <th>F1 score</th>\n",
       "    </tr>\n",
       "  </thead>\n",
       "  <tbody>\n",
       "    <tr>\n",
       "      <th>8</th>\n",
       "      <td>LGBMClassifier</td>\n",
       "      <td>0.948713</td>\n",
       "      <td>0.904678</td>\n",
       "      <td>7554</td>\n",
       "      <td>440</td>\n",
       "      <td>422</td>\n",
       "      <td>627</td>\n",
       "      <td>0.60</td>\n",
       "      <td>0.59</td>\n",
       "      <td>0.59</td>\n",
       "    </tr>\n",
       "    <tr>\n",
       "      <th>6</th>\n",
       "      <td>GradientBoostingClassifier</td>\n",
       "      <td>0.917001</td>\n",
       "      <td>0.876921</td>\n",
       "      <td>7197</td>\n",
       "      <td>797</td>\n",
       "      <td>316</td>\n",
       "      <td>733</td>\n",
       "      <td>0.70</td>\n",
       "      <td>0.48</td>\n",
       "      <td>0.57</td>\n",
       "    </tr>\n",
       "    <tr>\n",
       "      <th>7</th>\n",
       "      <td>XGBClassifier</td>\n",
       "      <td>0.967646</td>\n",
       "      <td>0.903572</td>\n",
       "      <td>7602</td>\n",
       "      <td>392</td>\n",
       "      <td>480</td>\n",
       "      <td>569</td>\n",
       "      <td>0.54</td>\n",
       "      <td>0.59</td>\n",
       "      <td>0.57</td>\n",
       "    </tr>\n",
       "    <tr>\n",
       "      <th>2</th>\n",
       "      <td>RandomForestClassifier</td>\n",
       "      <td>1.000000</td>\n",
       "      <td>0.891297</td>\n",
       "      <td>7448</td>\n",
       "      <td>546</td>\n",
       "      <td>437</td>\n",
       "      <td>612</td>\n",
       "      <td>0.58</td>\n",
       "      <td>0.53</td>\n",
       "      <td>0.55</td>\n",
       "    </tr>\n",
       "    <tr>\n",
       "      <th>5</th>\n",
       "      <td>AdaBoostClassifier</td>\n",
       "      <td>0.897833</td>\n",
       "      <td>0.861772</td>\n",
       "      <td>7129</td>\n",
       "      <td>865</td>\n",
       "      <td>385</td>\n",
       "      <td>664</td>\n",
       "      <td>0.63</td>\n",
       "      <td>0.43</td>\n",
       "      <td>0.52</td>\n",
       "    </tr>\n",
       "    <tr>\n",
       "      <th>0</th>\n",
       "      <td>LogisticRegression</td>\n",
       "      <td>0.854062</td>\n",
       "      <td>0.815659</td>\n",
       "      <td>6630</td>\n",
       "      <td>1364</td>\n",
       "      <td>303</td>\n",
       "      <td>746</td>\n",
       "      <td>0.71</td>\n",
       "      <td>0.35</td>\n",
       "      <td>0.47</td>\n",
       "    </tr>\n",
       "    <tr>\n",
       "      <th>1</th>\n",
       "      <td>DecisionTreeClassifier</td>\n",
       "      <td>1.000000</td>\n",
       "      <td>0.858012</td>\n",
       "      <td>7217</td>\n",
       "      <td>777</td>\n",
       "      <td>507</td>\n",
       "      <td>542</td>\n",
       "      <td>0.52</td>\n",
       "      <td>0.41</td>\n",
       "      <td>0.46</td>\n",
       "    </tr>\n",
       "    <tr>\n",
       "      <th>3</th>\n",
       "      <td>KNeighborsClassifier</td>\n",
       "      <td>0.936451</td>\n",
       "      <td>0.813889</td>\n",
       "      <td>6667</td>\n",
       "      <td>1327</td>\n",
       "      <td>356</td>\n",
       "      <td>693</td>\n",
       "      <td>0.66</td>\n",
       "      <td>0.34</td>\n",
       "      <td>0.45</td>\n",
       "    </tr>\n",
       "    <tr>\n",
       "      <th>4</th>\n",
       "      <td>GaussianNB</td>\n",
       "      <td>0.778752</td>\n",
       "      <td>0.673781</td>\n",
       "      <td>5313</td>\n",
       "      <td>2681</td>\n",
       "      <td>269</td>\n",
       "      <td>780</td>\n",
       "      <td>0.74</td>\n",
       "      <td>0.23</td>\n",
       "      <td>0.35</td>\n",
       "    </tr>\n",
       "  </tbody>\n",
       "</table>\n",
       "</div>"
      ],
      "text/plain": [
       "                        Model  Train_ACC  Test_ACC    TN    FP   FN   TP  \\\n",
       "8              LGBMClassifier   0.948713  0.904678  7554   440  422  627   \n",
       "6  GradientBoostingClassifier   0.917001  0.876921  7197   797  316  733   \n",
       "7               XGBClassifier   0.967646  0.903572  7602   392  480  569   \n",
       "2      RandomForestClassifier   1.000000  0.891297  7448   546  437  612   \n",
       "5          AdaBoostClassifier   0.897833  0.861772  7129   865  385  664   \n",
       "0          LogisticRegression   0.854062  0.815659  6630  1364  303  746   \n",
       "1      DecisionTreeClassifier   1.000000  0.858012  7217   777  507  542   \n",
       "3        KNeighborsClassifier   0.936451  0.813889  6667  1327  356  693   \n",
       "4                  GaussianNB   0.778752  0.673781  5313  2681  269  780   \n",
       "\n",
       "   recall  Precision  F1 score  \n",
       "8    0.60       0.59      0.59  \n",
       "6    0.70       0.48      0.57  \n",
       "7    0.54       0.59      0.57  \n",
       "2    0.58       0.53      0.55  \n",
       "5    0.63       0.43      0.52  \n",
       "0    0.71       0.35      0.47  \n",
       "1    0.52       0.41      0.46  \n",
       "3    0.66       0.34      0.45  \n",
       "4    0.74       0.23      0.35  "
      ]
     },
     "execution_count": 96,
     "metadata": {},
     "output_type": "execute_result"
    }
   ],
   "source": [
    "best4.sort_values(by='F1 score',ascending=False)"
   ]
  },
  {
   "cell_type": "markdown",
   "id": "20f3e53c",
   "metadata": {},
   "source": [
    "* In Base model after smote the maximum f1 score achieved is LGBM(0.60), XGB(0.57), Gradient Boosting(0.56)\n",
    "* Adding per_call_time feature, the f1_score of LGBM(0.59), GBM(0.56), and Guassian NB has low f1_score\n",
    "* Adding the job category maximum f1 score achieved is LGBM(0.59), XGB(0.57), Gradient Boosting(0.57)\n",
    "* Adding the age category maximum f1 score achieved is LGBM(0.59), XGB(0.57), Gradient Boosting(0.57)"
   ]
  },
  {
   "cell_type": "markdown",
   "id": "fe2f234e",
   "metadata": {},
   "source": [
    "**4.Binning of month**"
   ]
  },
  {
   "cell_type": "code",
   "execution_count": 97,
   "id": "8d96471a",
   "metadata": {},
   "outputs": [],
   "source": [
    "df8 = df4.copy(deep=True)"
   ]
  },
  {
   "cell_type": "code",
   "execution_count": 98,
   "id": "2df3b37c",
   "metadata": {},
   "outputs": [],
   "source": [
    "f1 = ['jan','feb','mar']\n",
    "f2 = ['apr','may','jun']\n",
    "f3 = ['jul','aug','sep']\n",
    "f4 = ['oct','nov','dec']"
   ]
  },
  {
   "cell_type": "code",
   "execution_count": 99,
   "id": "95798925",
   "metadata": {},
   "outputs": [],
   "source": [
    "l1 = []\n",
    "for i in df1.month:\n",
    "    if i in f1:\n",
    "        l1.append('first_quarter')\n",
    "    elif i in f2:\n",
    "        l1.append('second_quarter')\n",
    "    elif i in f3:\n",
    "        l1.append('third_quarter')\n",
    "    elif i in f4:\n",
    "        l1.append('fourth_quarter')"
   ]
  },
  {
   "cell_type": "code",
   "execution_count": 100,
   "id": "efab71b6",
   "metadata": {},
   "outputs": [],
   "source": [
    "df8['month_binned'] = l1"
   ]
  },
  {
   "cell_type": "code",
   "execution_count": 101,
   "id": "c71d1932",
   "metadata": {},
   "outputs": [],
   "source": [
    "b =df8['month_binned'].value_counts(normalize=True)\n",
    "df8['month_binned']=df8['month_binned'].map(b)"
   ]
  },
  {
   "cell_type": "code",
   "execution_count": 102,
   "id": "76ee3751",
   "metadata": {},
   "outputs": [],
   "source": [
    "x = df8.drop(columns='y',axis=1)\n",
    "y = df8['y']"
   ]
  },
  {
   "cell_type": "code",
   "execution_count": 103,
   "id": "267c65db",
   "metadata": {},
   "outputs": [],
   "source": [
    "xtrain,xtest,ytrain,ytest =  train_test_split(x,y,test_size=0.20,random_state=10)"
   ]
  },
  {
   "cell_type": "code",
   "execution_count": 104,
   "id": "20886204",
   "metadata": {},
   "outputs": [],
   "source": [
    "smote = SMOTE(sampling_strategy='minority')\n",
    "xtrain,ytrain = smote.fit_resample(xtrain,ytrain)"
   ]
  },
  {
   "cell_type": "code",
   "execution_count": 105,
   "id": "0cf6778c",
   "metadata": {},
   "outputs": [],
   "source": [
    "best5 = pd.DataFrame(columns = ['Model','Train_ACC','Test_ACC','TN','FP','FN','TP','recall','Precision','F1 score'])"
   ]
  },
  {
   "cell_type": "code",
   "execution_count": 106,
   "id": "5bb9aa6e",
   "metadata": {},
   "outputs": [],
   "source": [
    "perf1 = models(lg,xtrain,ytrain,xtest,ytest)\n",
    "perf2 = models(dt,xtrain,ytrain,xtest,ytest)\n",
    "perf3 = models(rf,xtrain,ytrain,xtest,ytest)\n",
    "perf4 = models(knn,xtrain,ytrain,xtest,ytest)\n",
    "perf5 = models(gb,xtrain,ytrain,xtest,ytest)\n",
    "perf6 = models(ada,xtrain,ytrain,xtest,ytest)\n",
    "perf7 = models(gbm,xtrain,ytrain,xtest,ytest)\n",
    "perf8 = models(xgb,xtrain,ytrain,xtest,ytest)\n",
    "perf9 = models(lgbm,xtrain,ytrain,xtest,ytest)"
   ]
  },
  {
   "cell_type": "code",
   "execution_count": 107,
   "id": "cc415c9e",
   "metadata": {},
   "outputs": [],
   "source": [
    "best5.loc[len(best5)] = perf1\n",
    "best5.loc[len(best5)] = perf2\n",
    "best5.loc[len(best5)] = perf3\n",
    "best5.loc[len(best5)] = perf4\n",
    "best5.loc[len(best5)] = perf5\n",
    "best5.loc[len(best5)] = perf6\n",
    "best5.loc[len(best5)] = perf7\n",
    "best5.loc[len(best5)] = perf8\n",
    "best5.loc[len(best5)] = perf9"
   ]
  },
  {
   "cell_type": "code",
   "execution_count": 108,
   "id": "ccfbffb8",
   "metadata": {},
   "outputs": [
    {
     "data": {
      "text/html": [
       "<div>\n",
       "<style scoped>\n",
       "    .dataframe tbody tr th:only-of-type {\n",
       "        vertical-align: middle;\n",
       "    }\n",
       "\n",
       "    .dataframe tbody tr th {\n",
       "        vertical-align: top;\n",
       "    }\n",
       "\n",
       "    .dataframe thead th {\n",
       "        text-align: right;\n",
       "    }\n",
       "</style>\n",
       "<table border=\"1\" class=\"dataframe\">\n",
       "  <thead>\n",
       "    <tr style=\"text-align: right;\">\n",
       "      <th></th>\n",
       "      <th>Model</th>\n",
       "      <th>Train_ACC</th>\n",
       "      <th>Test_ACC</th>\n",
       "      <th>TN</th>\n",
       "      <th>FP</th>\n",
       "      <th>FN</th>\n",
       "      <th>TP</th>\n",
       "      <th>recall</th>\n",
       "      <th>Precision</th>\n",
       "      <th>F1 score</th>\n",
       "    </tr>\n",
       "  </thead>\n",
       "  <tbody>\n",
       "    <tr>\n",
       "      <th>8</th>\n",
       "      <td>LGBMClassifier</td>\n",
       "      <td>0.948619</td>\n",
       "      <td>0.905120</td>\n",
       "      <td>7536</td>\n",
       "      <td>458</td>\n",
       "      <td>400</td>\n",
       "      <td>649</td>\n",
       "      <td>0.62</td>\n",
       "      <td>0.59</td>\n",
       "      <td>0.60</td>\n",
       "    </tr>\n",
       "    <tr>\n",
       "      <th>2</th>\n",
       "      <td>RandomForestClassifier</td>\n",
       "      <td>1.000000</td>\n",
       "      <td>0.898706</td>\n",
       "      <td>7512</td>\n",
       "      <td>482</td>\n",
       "      <td>434</td>\n",
       "      <td>615</td>\n",
       "      <td>0.59</td>\n",
       "      <td>0.56</td>\n",
       "      <td>0.57</td>\n",
       "    </tr>\n",
       "    <tr>\n",
       "      <th>6</th>\n",
       "      <td>GradientBoostingClassifier</td>\n",
       "      <td>0.921433</td>\n",
       "      <td>0.883003</td>\n",
       "      <td>7288</td>\n",
       "      <td>706</td>\n",
       "      <td>352</td>\n",
       "      <td>697</td>\n",
       "      <td>0.66</td>\n",
       "      <td>0.50</td>\n",
       "      <td>0.57</td>\n",
       "    </tr>\n",
       "    <tr>\n",
       "      <th>7</th>\n",
       "      <td>XGBClassifier</td>\n",
       "      <td>0.969337</td>\n",
       "      <td>0.904899</td>\n",
       "      <td>7620</td>\n",
       "      <td>374</td>\n",
       "      <td>486</td>\n",
       "      <td>563</td>\n",
       "      <td>0.54</td>\n",
       "      <td>0.60</td>\n",
       "      <td>0.57</td>\n",
       "    </tr>\n",
       "    <tr>\n",
       "      <th>5</th>\n",
       "      <td>AdaBoostClassifier</td>\n",
       "      <td>0.900761</td>\n",
       "      <td>0.863651</td>\n",
       "      <td>7157</td>\n",
       "      <td>837</td>\n",
       "      <td>396</td>\n",
       "      <td>653</td>\n",
       "      <td>0.62</td>\n",
       "      <td>0.44</td>\n",
       "      <td>0.51</td>\n",
       "    </tr>\n",
       "    <tr>\n",
       "      <th>0</th>\n",
       "      <td>LogisticRegression</td>\n",
       "      <td>0.852669</td>\n",
       "      <td>0.813447</td>\n",
       "      <td>6608</td>\n",
       "      <td>1386</td>\n",
       "      <td>301</td>\n",
       "      <td>748</td>\n",
       "      <td>0.71</td>\n",
       "      <td>0.35</td>\n",
       "      <td>0.47</td>\n",
       "    </tr>\n",
       "    <tr>\n",
       "      <th>1</th>\n",
       "      <td>DecisionTreeClassifier</td>\n",
       "      <td>1.000000</td>\n",
       "      <td>0.860113</td>\n",
       "      <td>7211</td>\n",
       "      <td>783</td>\n",
       "      <td>482</td>\n",
       "      <td>567</td>\n",
       "      <td>0.54</td>\n",
       "      <td>0.42</td>\n",
       "      <td>0.47</td>\n",
       "    </tr>\n",
       "    <tr>\n",
       "      <th>3</th>\n",
       "      <td>KNeighborsClassifier</td>\n",
       "      <td>0.937469</td>\n",
       "      <td>0.813779</td>\n",
       "      <td>6651</td>\n",
       "      <td>1343</td>\n",
       "      <td>341</td>\n",
       "      <td>708</td>\n",
       "      <td>0.67</td>\n",
       "      <td>0.35</td>\n",
       "      <td>0.46</td>\n",
       "    </tr>\n",
       "    <tr>\n",
       "      <th>4</th>\n",
       "      <td>GaussianNB</td>\n",
       "      <td>0.752083</td>\n",
       "      <td>0.627447</td>\n",
       "      <td>4912</td>\n",
       "      <td>3082</td>\n",
       "      <td>287</td>\n",
       "      <td>762</td>\n",
       "      <td>0.73</td>\n",
       "      <td>0.20</td>\n",
       "      <td>0.31</td>\n",
       "    </tr>\n",
       "  </tbody>\n",
       "</table>\n",
       "</div>"
      ],
      "text/plain": [
       "                        Model  Train_ACC  Test_ACC    TN    FP   FN   TP  \\\n",
       "8              LGBMClassifier   0.948619  0.905120  7536   458  400  649   \n",
       "2      RandomForestClassifier   1.000000  0.898706  7512   482  434  615   \n",
       "6  GradientBoostingClassifier   0.921433  0.883003  7288   706  352  697   \n",
       "7               XGBClassifier   0.969337  0.904899  7620   374  486  563   \n",
       "5          AdaBoostClassifier   0.900761  0.863651  7157   837  396  653   \n",
       "0          LogisticRegression   0.852669  0.813447  6608  1386  301  748   \n",
       "1      DecisionTreeClassifier   1.000000  0.860113  7211   783  482  567   \n",
       "3        KNeighborsClassifier   0.937469  0.813779  6651  1343  341  708   \n",
       "4                  GaussianNB   0.752083  0.627447  4912  3082  287  762   \n",
       "\n",
       "   recall  Precision  F1 score  \n",
       "8    0.62       0.59      0.60  \n",
       "2    0.59       0.56      0.57  \n",
       "6    0.66       0.50      0.57  \n",
       "7    0.54       0.60      0.57  \n",
       "5    0.62       0.44      0.51  \n",
       "0    0.71       0.35      0.47  \n",
       "1    0.54       0.42      0.47  \n",
       "3    0.67       0.35      0.46  \n",
       "4    0.73       0.20      0.31  "
      ]
     },
     "execution_count": 108,
     "metadata": {},
     "output_type": "execute_result"
    }
   ],
   "source": [
    "best5.sort_values(by='F1 score',ascending=False)"
   ]
  },
  {
   "cell_type": "markdown",
   "id": "9e7af8b5",
   "metadata": {},
   "source": [
    "* In Base model after smote the maximum f1 score achieved is LGBM(0.60), XGB(0.57), Gradient Boosting(0.56)\n",
    "* Adding per_call_time feature, the f1_score of LGBM(0.59), GBM(0.56), and Guassian NB has low f1_score\n",
    "* Adding the job category maximum f1 score achieved is LGBM(0.59), XGB(0.57), Gradient Boosting(0.57)\n",
    "* Adding the age category maximum f1 score achieved is LGBM(0.59), XGB(0.57), Gradient Boosting(0.57)\n",
    "* Adding the month categoty maximum f1 score achieved is LGBM(0.60), XGB(0.57), Gradient Boosting(0.57)"
   ]
  },
  {
   "cell_type": "markdown",
   "id": "5f21cb6d",
   "metadata": {},
   "source": [
    "#### 5. Adding all the features"
   ]
  },
  {
   "cell_type": "code",
   "execution_count": 109,
   "id": "9291bd82",
   "metadata": {},
   "outputs": [],
   "source": [
    "df9 = df4.copy(deep=True)"
   ]
  },
  {
   "cell_type": "code",
   "execution_count": 110,
   "id": "4d2ef1dd",
   "metadata": {},
   "outputs": [
    {
     "data": {
      "text/html": [
       "<div>\n",
       "<style scoped>\n",
       "    .dataframe tbody tr th:only-of-type {\n",
       "        vertical-align: middle;\n",
       "    }\n",
       "\n",
       "    .dataframe tbody tr th {\n",
       "        vertical-align: top;\n",
       "    }\n",
       "\n",
       "    .dataframe thead th {\n",
       "        text-align: right;\n",
       "    }\n",
       "</style>\n",
       "<table border=\"1\" class=\"dataframe\">\n",
       "  <thead>\n",
       "    <tr style=\"text-align: right;\">\n",
       "      <th></th>\n",
       "      <th>age</th>\n",
       "      <th>job</th>\n",
       "      <th>education</th>\n",
       "      <th>default</th>\n",
       "      <th>balance</th>\n",
       "      <th>housing</th>\n",
       "      <th>loan</th>\n",
       "      <th>day</th>\n",
       "      <th>month</th>\n",
       "      <th>duration</th>\n",
       "      <th>campaign</th>\n",
       "      <th>pdays</th>\n",
       "      <th>previous</th>\n",
       "      <th>poutcome</th>\n",
       "      <th>y</th>\n",
       "      <th>marital_married</th>\n",
       "      <th>marital_single</th>\n",
       "      <th>contact_telephone</th>\n",
       "      <th>contact_unknown</th>\n",
       "    </tr>\n",
       "  </thead>\n",
       "  <tbody>\n",
       "    <tr>\n",
       "      <th>0</th>\n",
       "      <td>58</td>\n",
       "      <td>4</td>\n",
       "      <td>0.294198</td>\n",
       "      <td>0</td>\n",
       "      <td>0.414773</td>\n",
       "      <td>1</td>\n",
       "      <td>0</td>\n",
       "      <td>-1.298476</td>\n",
       "      <td>8</td>\n",
       "      <td>0.386077</td>\n",
       "      <td>-1.108191</td>\n",
       "      <td>-0.472533</td>\n",
       "      <td>-0.4725</td>\n",
       "      <td>0.817478</td>\n",
       "      <td>0</td>\n",
       "      <td>1</td>\n",
       "      <td>0</td>\n",
       "      <td>0</td>\n",
       "      <td>1</td>\n",
       "    </tr>\n",
       "    <tr>\n",
       "      <th>1</th>\n",
       "      <td>44</td>\n",
       "      <td>9</td>\n",
       "      <td>0.513194</td>\n",
       "      <td>0</td>\n",
       "      <td>-0.410774</td>\n",
       "      <td>1</td>\n",
       "      <td>0</td>\n",
       "      <td>-1.298476</td>\n",
       "      <td>8</td>\n",
       "      <td>-0.223033</td>\n",
       "      <td>-1.108191</td>\n",
       "      <td>-0.472533</td>\n",
       "      <td>-0.4725</td>\n",
       "      <td>0.817478</td>\n",
       "      <td>0</td>\n",
       "      <td>0</td>\n",
       "      <td>1</td>\n",
       "      <td>0</td>\n",
       "      <td>1</td>\n",
       "    </tr>\n",
       "    <tr>\n",
       "      <th>2</th>\n",
       "      <td>33</td>\n",
       "      <td>2</td>\n",
       "      <td>0.513194</td>\n",
       "      <td>0</td>\n",
       "      <td>-0.431122</td>\n",
       "      <td>1</td>\n",
       "      <td>1</td>\n",
       "      <td>-1.298476</td>\n",
       "      <td>8</td>\n",
       "      <td>-0.923854</td>\n",
       "      <td>-1.108191</td>\n",
       "      <td>-0.472533</td>\n",
       "      <td>-0.4725</td>\n",
       "      <td>0.817478</td>\n",
       "      <td>0</td>\n",
       "      <td>1</td>\n",
       "      <td>0</td>\n",
       "      <td>0</td>\n",
       "      <td>1</td>\n",
       "    </tr>\n",
       "    <tr>\n",
       "      <th>3</th>\n",
       "      <td>47</td>\n",
       "      <td>1</td>\n",
       "      <td>0.041074</td>\n",
       "      <td>0</td>\n",
       "      <td>0.197685</td>\n",
       "      <td>1</td>\n",
       "      <td>0</td>\n",
       "      <td>-1.298476</td>\n",
       "      <td>8</td>\n",
       "      <td>-0.735678</td>\n",
       "      <td>-1.108191</td>\n",
       "      <td>-0.472533</td>\n",
       "      <td>-0.4725</td>\n",
       "      <td>0.817478</td>\n",
       "      <td>0</td>\n",
       "      <td>1</td>\n",
       "      <td>0</td>\n",
       "      <td>0</td>\n",
       "      <td>1</td>\n",
       "    </tr>\n",
       "    <tr>\n",
       "      <th>4</th>\n",
       "      <td>33</td>\n",
       "      <td>11</td>\n",
       "      <td>0.041074</td>\n",
       "      <td>0</td>\n",
       "      <td>-0.432119</td>\n",
       "      <td>0</td>\n",
       "      <td>0</td>\n",
       "      <td>-1.298476</td>\n",
       "      <td>8</td>\n",
       "      <td>0.072812</td>\n",
       "      <td>-1.108191</td>\n",
       "      <td>-0.472533</td>\n",
       "      <td>-0.4725</td>\n",
       "      <td>0.817478</td>\n",
       "      <td>0</td>\n",
       "      <td>0</td>\n",
       "      <td>1</td>\n",
       "      <td>0</td>\n",
       "      <td>1</td>\n",
       "    </tr>\n",
       "  </tbody>\n",
       "</table>\n",
       "</div>"
      ],
      "text/plain": [
       "   age  job  education  default   balance  housing  loan       day  month  \\\n",
       "0   58    4   0.294198        0  0.414773        1     0 -1.298476      8   \n",
       "1   44    9   0.513194        0 -0.410774        1     0 -1.298476      8   \n",
       "2   33    2   0.513194        0 -0.431122        1     1 -1.298476      8   \n",
       "3   47    1   0.041074        0  0.197685        1     0 -1.298476      8   \n",
       "4   33   11   0.041074        0 -0.432119        0     0 -1.298476      8   \n",
       "\n",
       "   duration  campaign     pdays  previous  poutcome  y  marital_married  \\\n",
       "0  0.386077 -1.108191 -0.472533   -0.4725  0.817478  0                1   \n",
       "1 -0.223033 -1.108191 -0.472533   -0.4725  0.817478  0                0   \n",
       "2 -0.923854 -1.108191 -0.472533   -0.4725  0.817478  0                1   \n",
       "3 -0.735678 -1.108191 -0.472533   -0.4725  0.817478  0                1   \n",
       "4  0.072812 -1.108191 -0.472533   -0.4725  0.817478  0                0   \n",
       "\n",
       "   marital_single  contact_telephone  contact_unknown  \n",
       "0               0                  0                1  \n",
       "1               1                  0                1  \n",
       "2               0                  0                1  \n",
       "3               0                  0                1  \n",
       "4               1                  0                1  "
      ]
     },
     "execution_count": 110,
     "metadata": {},
     "output_type": "execute_result"
    }
   ],
   "source": [
    "df9.head()"
   ]
  },
  {
   "cell_type": "code",
   "execution_count": 111,
   "id": "bcb2045a",
   "metadata": {},
   "outputs": [
    {
     "data": {
      "text/plain": [
       "(45211, 19)"
      ]
     },
     "execution_count": 111,
     "metadata": {},
     "output_type": "execute_result"
    }
   ],
   "source": [
    "df9.shape"
   ]
  },
  {
   "cell_type": "code",
   "execution_count": 112,
   "id": "df188dd7",
   "metadata": {},
   "outputs": [],
   "source": [
    "df9['per_call_time'] = round((df1.duration/(df1.campaign*60)),2)"
   ]
  },
  {
   "cell_type": "code",
   "execution_count": 113,
   "id": "79c89fb5",
   "metadata": {},
   "outputs": [],
   "source": [
    "unemp = ['student','unemployed','retired','unknown']\n",
    "blue  = ['blue-collar','technician','services','housemaid','self-employed']\n",
    "white = ['management','admin.','entrepreneur']"
   ]
  },
  {
   "cell_type": "code",
   "execution_count": 114,
   "id": "13830222",
   "metadata": {},
   "outputs": [],
   "source": [
    "l = []\n",
    "for i in df1.job:\n",
    "    if i in unemp:\n",
    "        l.append('unemployed')\n",
    "    elif i in blue:\n",
    "        l.append('blue-collar')\n",
    "    elif i in white:\n",
    "        l.append('white-collar')"
   ]
  },
  {
   "cell_type": "code",
   "execution_count": 115,
   "id": "c7af0e20",
   "metadata": {},
   "outputs": [],
   "source": [
    "df9['job_binned']=l "
   ]
  },
  {
   "cell_type": "code",
   "execution_count": 116,
   "id": "5ebdd538",
   "metadata": {},
   "outputs": [],
   "source": [
    "l=[]\n",
    "for i in df1['age']:\n",
    "    if (i>=18) & (i<=39):\n",
    "        a='young'\n",
    "        l.append(a)\n",
    "    elif (i>=40) & (i<=60):\n",
    "        a='adult'\n",
    "        l.append(a)\n",
    "    elif (i>=61) :\n",
    "        a='old'\n",
    "        l.append(a)"
   ]
  },
  {
   "cell_type": "code",
   "execution_count": 117,
   "id": "d8e310b1",
   "metadata": {},
   "outputs": [],
   "source": [
    "df9['age_binned'] = l"
   ]
  },
  {
   "cell_type": "code",
   "execution_count": 118,
   "id": "41e984d2",
   "metadata": {},
   "outputs": [],
   "source": [
    "f1 = ['jan','feb','mar',]\n",
    "f2 = ['apr','may','jun']\n",
    "f3 = ['jul','aug','sep']\n",
    "f4 = ['oct','nov','dec']"
   ]
  },
  {
   "cell_type": "code",
   "execution_count": 119,
   "id": "9c5e0093",
   "metadata": {},
   "outputs": [],
   "source": [
    "l1 = []\n",
    "for i in df1.month:\n",
    "    if i in f1:\n",
    "        l1.append('first_quarter')\n",
    "    elif i in f2:\n",
    "        l1.append('second_quarter')\n",
    "    elif i in f3:\n",
    "        l1.append('third_quarter')\n",
    "    elif i in f4:\n",
    "        l1.append('fourth_quarter')"
   ]
  },
  {
   "cell_type": "code",
   "execution_count": 120,
   "id": "dc7d4e81",
   "metadata": {},
   "outputs": [],
   "source": [
    "df9['month_binned'] = l1"
   ]
  },
  {
   "cell_type": "code",
   "execution_count": 121,
   "id": "72d189eb",
   "metadata": {},
   "outputs": [],
   "source": [
    "f = ['job_binned','age_binned','month_binned']\n",
    "for i in f:\n",
    "    b =df9[i].value_counts(normalize=True)\n",
    "    df9[i]=df9[i].map(b)"
   ]
  },
  {
   "cell_type": "code",
   "execution_count": 122,
   "id": "6d85bba1",
   "metadata": {},
   "outputs": [],
   "source": [
    "df9[['per_call_time']]= ss.fit_transform(df9[['per_call_time']])"
   ]
  },
  {
   "cell_type": "code",
   "execution_count": 123,
   "id": "a6676e87",
   "metadata": {},
   "outputs": [],
   "source": [
    "x = df9.drop(columns='y',axis=1)\n",
    "y = df9['y']"
   ]
  },
  {
   "cell_type": "code",
   "execution_count": 124,
   "id": "84756767",
   "metadata": {},
   "outputs": [],
   "source": [
    "xtrain,xtest,ytrain,ytest =  train_test_split(x,y,test_size=0.20,random_state=10)"
   ]
  },
  {
   "cell_type": "code",
   "execution_count": 125,
   "id": "c37a5253",
   "metadata": {},
   "outputs": [],
   "source": [
    "smote = SMOTE(sampling_strategy='minority')\n",
    "xtrain,ytrain = smote.fit_resample(xtrain,ytrain)"
   ]
  },
  {
   "cell_type": "code",
   "execution_count": 126,
   "id": "8c559529",
   "metadata": {},
   "outputs": [],
   "source": [
    "best6 = pd.DataFrame(columns = ['Model','Train_ACC','Test_ACC','TN','FP','FN','TP','recall','Precision','F1 score'])"
   ]
  },
  {
   "cell_type": "code",
   "execution_count": 127,
   "id": "30f3727f",
   "metadata": {},
   "outputs": [],
   "source": [
    "perf1 = models(lg,xtrain,ytrain,xtest,ytest)\n",
    "perf2 = models(dt,xtrain,ytrain,xtest,ytest)\n",
    "perf3 = models(rf,xtrain,ytrain,xtest,ytest)\n",
    "perf4 = models(knn,xtrain,ytrain,xtest,ytest)\n",
    "perf5 = models(gb,xtrain,ytrain,xtest,ytest)\n",
    "perf6 = models(ada,xtrain,ytrain,xtest,ytest)\n",
    "perf7 = models(gbm,xtrain,ytrain,xtest,ytest)\n",
    "perf8 = models(xgb,xtrain,ytrain,xtest,ytest)\n",
    "perf9 = models(lgbm,xtrain,ytrain,xtest,ytest)"
   ]
  },
  {
   "cell_type": "code",
   "execution_count": 128,
   "id": "473cabd3",
   "metadata": {},
   "outputs": [],
   "source": [
    "best6.loc[len(best6)] = perf1\n",
    "best6.loc[len(best6)] = perf2\n",
    "best6.loc[len(best6)] = perf3\n",
    "best6.loc[len(best6)] = perf4\n",
    "best6.loc[len(best6)] = perf5\n",
    "best6.loc[len(best6)] = perf6\n",
    "best6.loc[len(best6)] = perf7\n",
    "best6.loc[len(best6)] = perf8\n",
    "best6.loc[len(best6)] = perf9"
   ]
  },
  {
   "cell_type": "code",
   "execution_count": 129,
   "id": "a507ec9b",
   "metadata": {},
   "outputs": [
    {
     "data": {
      "text/html": [
       "<div>\n",
       "<style scoped>\n",
       "    .dataframe tbody tr th:only-of-type {\n",
       "        vertical-align: middle;\n",
       "    }\n",
       "\n",
       "    .dataframe tbody tr th {\n",
       "        vertical-align: top;\n",
       "    }\n",
       "\n",
       "    .dataframe thead th {\n",
       "        text-align: right;\n",
       "    }\n",
       "</style>\n",
       "<table border=\"1\" class=\"dataframe\">\n",
       "  <thead>\n",
       "    <tr style=\"text-align: right;\">\n",
       "      <th></th>\n",
       "      <th>Model</th>\n",
       "      <th>Train_ACC</th>\n",
       "      <th>Test_ACC</th>\n",
       "      <th>TN</th>\n",
       "      <th>FP</th>\n",
       "      <th>FN</th>\n",
       "      <th>TP</th>\n",
       "      <th>recall</th>\n",
       "      <th>Precision</th>\n",
       "      <th>F1 score</th>\n",
       "    </tr>\n",
       "  </thead>\n",
       "  <tbody>\n",
       "    <tr>\n",
       "      <th>8</th>\n",
       "      <td>LGBMClassifier</td>\n",
       "      <td>0.948932</td>\n",
       "      <td>0.906005</td>\n",
       "      <td>7549</td>\n",
       "      <td>445</td>\n",
       "      <td>405</td>\n",
       "      <td>644</td>\n",
       "      <td>0.61</td>\n",
       "      <td>0.59</td>\n",
       "      <td>0.60</td>\n",
       "    </tr>\n",
       "    <tr>\n",
       "      <th>7</th>\n",
       "      <td>XGBClassifier</td>\n",
       "      <td>0.970903</td>\n",
       "      <td>0.908548</td>\n",
       "      <td>7640</td>\n",
       "      <td>354</td>\n",
       "      <td>473</td>\n",
       "      <td>576</td>\n",
       "      <td>0.55</td>\n",
       "      <td>0.62</td>\n",
       "      <td>0.58</td>\n",
       "    </tr>\n",
       "    <tr>\n",
       "      <th>2</th>\n",
       "      <td>RandomForestClassifier</td>\n",
       "      <td>1.000000</td>\n",
       "      <td>0.893951</td>\n",
       "      <td>7468</td>\n",
       "      <td>526</td>\n",
       "      <td>433</td>\n",
       "      <td>616</td>\n",
       "      <td>0.59</td>\n",
       "      <td>0.54</td>\n",
       "      <td>0.56</td>\n",
       "    </tr>\n",
       "    <tr>\n",
       "      <th>6</th>\n",
       "      <td>GradientBoostingClassifier</td>\n",
       "      <td>0.923985</td>\n",
       "      <td>0.880018</td>\n",
       "      <td>7258</td>\n",
       "      <td>736</td>\n",
       "      <td>349</td>\n",
       "      <td>700</td>\n",
       "      <td>0.67</td>\n",
       "      <td>0.49</td>\n",
       "      <td>0.56</td>\n",
       "    </tr>\n",
       "    <tr>\n",
       "      <th>5</th>\n",
       "      <td>AdaBoostClassifier</td>\n",
       "      <td>0.904285</td>\n",
       "      <td>0.867080</td>\n",
       "      <td>7168</td>\n",
       "      <td>826</td>\n",
       "      <td>376</td>\n",
       "      <td>673</td>\n",
       "      <td>0.64</td>\n",
       "      <td>0.45</td>\n",
       "      <td>0.53</td>\n",
       "    </tr>\n",
       "    <tr>\n",
       "      <th>0</th>\n",
       "      <td>LogisticRegression</td>\n",
       "      <td>0.853765</td>\n",
       "      <td>0.816101</td>\n",
       "      <td>6635</td>\n",
       "      <td>1359</td>\n",
       "      <td>304</td>\n",
       "      <td>745</td>\n",
       "      <td>0.71</td>\n",
       "      <td>0.35</td>\n",
       "      <td>0.47</td>\n",
       "    </tr>\n",
       "    <tr>\n",
       "      <th>1</th>\n",
       "      <td>DecisionTreeClassifier</td>\n",
       "      <td>1.000000</td>\n",
       "      <td>0.861661</td>\n",
       "      <td>7240</td>\n",
       "      <td>754</td>\n",
       "      <td>497</td>\n",
       "      <td>552</td>\n",
       "      <td>0.53</td>\n",
       "      <td>0.42</td>\n",
       "      <td>0.47</td>\n",
       "    </tr>\n",
       "    <tr>\n",
       "      <th>3</th>\n",
       "      <td>KNeighborsClassifier</td>\n",
       "      <td>0.938158</td>\n",
       "      <td>0.816764</td>\n",
       "      <td>6665</td>\n",
       "      <td>1329</td>\n",
       "      <td>328</td>\n",
       "      <td>721</td>\n",
       "      <td>0.69</td>\n",
       "      <td>0.35</td>\n",
       "      <td>0.47</td>\n",
       "    </tr>\n",
       "    <tr>\n",
       "      <th>4</th>\n",
       "      <td>GaussianNB</td>\n",
       "      <td>0.802196</td>\n",
       "      <td>0.715913</td>\n",
       "      <td>5699</td>\n",
       "      <td>2295</td>\n",
       "      <td>274</td>\n",
       "      <td>775</td>\n",
       "      <td>0.74</td>\n",
       "      <td>0.25</td>\n",
       "      <td>0.38</td>\n",
       "    </tr>\n",
       "  </tbody>\n",
       "</table>\n",
       "</div>"
      ],
      "text/plain": [
       "                        Model  Train_ACC  Test_ACC    TN    FP   FN   TP  \\\n",
       "8              LGBMClassifier   0.948932  0.906005  7549   445  405  644   \n",
       "7               XGBClassifier   0.970903  0.908548  7640   354  473  576   \n",
       "2      RandomForestClassifier   1.000000  0.893951  7468   526  433  616   \n",
       "6  GradientBoostingClassifier   0.923985  0.880018  7258   736  349  700   \n",
       "5          AdaBoostClassifier   0.904285  0.867080  7168   826  376  673   \n",
       "0          LogisticRegression   0.853765  0.816101  6635  1359  304  745   \n",
       "1      DecisionTreeClassifier   1.000000  0.861661  7240   754  497  552   \n",
       "3        KNeighborsClassifier   0.938158  0.816764  6665  1329  328  721   \n",
       "4                  GaussianNB   0.802196  0.715913  5699  2295  274  775   \n",
       "\n",
       "   recall  Precision  F1 score  \n",
       "8    0.61       0.59      0.60  \n",
       "7    0.55       0.62      0.58  \n",
       "2    0.59       0.54      0.56  \n",
       "6    0.67       0.49      0.56  \n",
       "5    0.64       0.45      0.53  \n",
       "0    0.71       0.35      0.47  \n",
       "1    0.53       0.42      0.47  \n",
       "3    0.69       0.35      0.47  \n",
       "4    0.74       0.25      0.38  "
      ]
     },
     "execution_count": 129,
     "metadata": {},
     "output_type": "execute_result"
    }
   ],
   "source": [
    "best6.sort_values(by='F1 score',ascending=False)"
   ]
  },
  {
   "cell_type": "markdown",
   "id": "750fa75b",
   "metadata": {},
   "source": [
    "* In Base model after smote the maximum f1 score achieved is LGBM(0.60), XGB(0.57), Gradient Boosting(0.56)\n",
    "* Adding per_call_time feature, the f1_score of LGBM(0.59), GBM(0.56), and Guassian NB has low f1_score\n",
    "* Adding the job category maximum f1 score achieved is LGBM(0.59), XGB(0.57), Gradient Boosting(0.57)\n",
    "* Adding the age category maximum f1 score achieved is LGBM(0.59), XGB(0.57), Gradient Boosting(0.57)\n",
    "* Adding the month categoty maximum f1 score achieved is LGBM(0.60), XGB(0.57), Gradient Boosting(0.57)\n",
    "* After adding all the category  maximum f1 score achieved is LGBM(0.60), XGB(0.58), Gradient Boosting(0.56)"
   ]
  },
  {
   "cell_type": "markdown",
   "id": "60d40c6d",
   "metadata": {},
   "source": [
    "<h2><span class=\"label label-primary\">Hyper parameter tunning</span></h2>"
   ]
  },
  {
   "cell_type": "markdown",
   "id": "f0cc3849",
   "metadata": {},
   "source": [
    "* Based on feature engineering we created multiple models, In that feature engineering with month binned has good scores\n",
    "* From that LGBM,XGB,GB performed good, So were tunning the models to get better scores"
   ]
  },
  {
   "cell_type": "code",
   "execution_count": 158,
   "id": "19cfb0b7",
   "metadata": {},
   "outputs": [],
   "source": [
    "x = df8.drop(columns='y',axis=1)\n",
    "y = df8['y']"
   ]
  },
  {
   "cell_type": "code",
   "execution_count": 159,
   "id": "39b16fc9",
   "metadata": {},
   "outputs": [],
   "source": [
    "xtrain,xtest,ytrain,ytest =  train_test_split(x,y,test_size=0.20,random_state=10)"
   ]
  },
  {
   "cell_type": "code",
   "execution_count": 160,
   "id": "d280c6de",
   "metadata": {},
   "outputs": [],
   "source": [
    "smote = SMOTE(sampling_strategy='minority')\n",
    "xtrain,ytrain = smote.fit_resample(xtrain,ytrain)"
   ]
  },
  {
   "cell_type": "raw",
   "id": "82032216",
   "metadata": {},
   "source": [
    "From the above we select LGBM,XGB,Gradient,Logistic regression model"
   ]
  },
  {
   "cell_type": "markdown",
   "id": "a933b473",
   "metadata": {},
   "source": [
    "<h3><span class=\"label label-info\">LGBM</span></h3>"
   ]
  },
  {
   "cell_type": "code",
   "execution_count": 162,
   "id": "1f5e4673",
   "metadata": {},
   "outputs": [
    {
     "data": {
      "text/plain": [
       "{'max_depth': 7, 'n_estimators': 100, 'reg_lambda': 0.02}"
      ]
     },
     "execution_count": 162,
     "metadata": {},
     "output_type": "execute_result"
    }
   ],
   "source": [
    "params = {'n_estimators':[100,150,200],\n",
    "         'max_depth':range(2,10),\n",
    "         'reg_lambda':[0.02,0.01,0.1,0.2,0.3]}\n",
    "Grid  = GridSearchCV(estimator=lgbm,cv=5,param_grid=params,n_jobs=-1)\n",
    "Grid.fit(xtrain,ytrain)\n",
    "Grid.best_params_"
   ]
  },
  {
   "cell_type": "code",
   "execution_count": 163,
   "id": "6d0e594d",
   "metadata": {},
   "outputs": [
    {
     "name": "stdout",
     "output_type": "stream",
     "text": [
      "0.9477417940365823\n",
      "0.9046776512219397\n",
      "[[7514  480]\n",
      " [ 382  667]]\n",
      "              precision    recall  f1-score   support\n",
      "\n",
      "           0       0.95      0.94      0.95      7994\n",
      "           1       0.58      0.64      0.61      1049\n",
      "\n",
      "    accuracy                           0.90      9043\n",
      "   macro avg       0.77      0.79      0.78      9043\n",
      "weighted avg       0.91      0.90      0.91      9043\n",
      "\n"
     ]
    }
   ],
   "source": [
    "lgbm =  LGBMClassifier(random_state=10,max_depth=7,n_estimators=100,reg_lambda=0.02)\n",
    "model2 = lgbm.fit(xtrain,ytrain)\n",
    "ypred2 = model2.predict(xtest)  \n",
    "print(model2.score(xtrain,ytrain))\n",
    "print(model2.score(xtest,ytest))\n",
    "print(confusion_matrix(ytest,ypred2))\n",
    "print(classification_report(ytest,ypred2))"
   ]
  },
  {
   "cell_type": "code",
   "execution_count": 164,
   "id": "fb560820",
   "metadata": {},
   "outputs": [],
   "source": [
    "xtrain,xtest,ytrain,ytest =  train_test_split(x,y,test_size=0.20,random_state=10)"
   ]
  },
  {
   "cell_type": "code",
   "execution_count": 165,
   "id": "131f0c8f",
   "metadata": {},
   "outputs": [],
   "source": [
    "smote = SMOTE(sampling_strategy='minority')\n",
    "smotex,smotey = smote.fit_resample(xtrain,ytrain)"
   ]
  },
  {
   "cell_type": "code",
   "execution_count": 166,
   "id": "97fa03c8",
   "metadata": {},
   "outputs": [],
   "source": [
    "pred = []\n",
    "\n",
    "kfold = StratifiedKFold(n_splits=5,shuffle=True,random_state=42)\n",
    "\n",
    "for train_index,test_index in kfold.split(smotex,smotey):\n",
    "    xtrain = smotex.iloc[train_index]\n",
    "    ytrain = smotey.iloc[train_index]\n",
    "    pred.append(lgbm.fit(xtrain,ytrain).predict(xtest)) "
   ]
  },
  {
   "cell_type": "code",
   "execution_count": 167,
   "id": "b4ed4fa0",
   "metadata": {},
   "outputs": [],
   "source": [
    "finalpred = pd.DataFrame(pred).T.mode(axis=1)[0]"
   ]
  },
  {
   "cell_type": "code",
   "execution_count": 168,
   "id": "59960540",
   "metadata": {},
   "outputs": [
    {
     "name": "stdout",
     "output_type": "stream",
     "text": [
      "[[7507  487]\n",
      " [ 386  663]]\n",
      "              precision    recall  f1-score   support\n",
      "\n",
      "           0       0.95      0.94      0.95      7994\n",
      "           1       0.58      0.63      0.60      1049\n",
      "\n",
      "    accuracy                           0.90      9043\n",
      "   macro avg       0.76      0.79      0.77      9043\n",
      "weighted avg       0.91      0.90      0.91      9043\n",
      "\n"
     ]
    }
   ],
   "source": [
    "print(confusion_matrix(ytest,finalpred))\n",
    "print(classification_report(ytest,finalpred)) "
   ]
  },
  {
   "cell_type": "markdown",
   "id": "6b7e2cb7",
   "metadata": {},
   "source": [
    "* after doing the hyper parameter tuning the FN is decreased and the TP is increased the f1 score also increased\n",
    "* But the model predictions have been improved"
   ]
  },
  {
   "cell_type": "markdown",
   "id": "952cf24d",
   "metadata": {},
   "source": [
    "<h3><span class=\"label label-info\">XGB</span></h3>"
   ]
  },
  {
   "cell_type": "code",
   "execution_count": null,
   "id": "f7d772e3",
   "metadata": {},
   "outputs": [],
   "source": [
    "# params = {'max_depth':range(6,15),\n",
    "#          'gamma':[0,1,2,3,4],\n",
    "#          'subsample':[0.5,0.6,0.7,0.8,1]}\n",
    "\n",
    "# Grid  = GridSearchCV(estimator=xgb,cv=5,param_grid=params,n_jobs=-1)\n",
    "\n",
    "# Grid.fit(xtrain,ytrain)\n",
    "\n",
    "# Grid.best_params_"
   ]
  },
  {
   "cell_type": "code",
   "execution_count": 169,
   "id": "8a7d430a",
   "metadata": {},
   "outputs": [
    {
     "name": "stdout",
     "output_type": "stream",
     "text": [
      "0.9727904472937261\n",
      "0.906668141103616\n",
      "[[7613  381]\n",
      " [ 463  586]]\n",
      "              precision    recall  f1-score   support\n",
      "\n",
      "           0       0.94      0.95      0.95      7994\n",
      "           1       0.61      0.56      0.58      1049\n",
      "\n",
      "    accuracy                           0.91      9043\n",
      "   macro avg       0.77      0.76      0.76      9043\n",
      "weighted avg       0.90      0.91      0.91      9043\n",
      "\n"
     ]
    }
   ],
   "source": [
    "xgb =  XGBClassifier(random_state=10,max_depth=6,gamma=0,subsample=0.8)\n",
    "model2 = xgb.fit(xtrain,ytrain)\n",
    "ypred2 = model2.predict(xtest)  \n",
    "print(model2.score(xtrain,ytrain))\n",
    "print(model2.score(xtest,ytest))\n",
    "print(confusion_matrix(ytest,ypred2))\n",
    "print(classification_report(ytest,ypred2))"
   ]
  },
  {
   "cell_type": "code",
   "execution_count": 170,
   "id": "9d4d0045",
   "metadata": {},
   "outputs": [],
   "source": [
    "pred = []\n",
    "\n",
    "kfold = StratifiedKFold(n_splits=5,shuffle=True,random_state=42)\n",
    "\n",
    "for train_index,test_index in kfold.split(smotex,smotey):\n",
    "    xtrain = smotex.iloc[train_index]\n",
    "    ytrain = smotey.iloc[train_index]\n",
    "    pred.append(xgb.fit(xtrain,ytrain).predict(xtest)) "
   ]
  },
  {
   "cell_type": "code",
   "execution_count": 171,
   "id": "e2dcf92f",
   "metadata": {},
   "outputs": [],
   "source": [
    "finalpred = pd.DataFrame(pred).T.mode(axis=1)[0]"
   ]
  },
  {
   "cell_type": "code",
   "execution_count": 172,
   "id": "e1d5fdad",
   "metadata": {},
   "outputs": [
    {
     "name": "stdout",
     "output_type": "stream",
     "text": [
      "[[7632  362]\n",
      " [ 464  585]]\n",
      "              precision    recall  f1-score   support\n",
      "\n",
      "           0       0.94      0.95      0.95      7994\n",
      "           1       0.62      0.56      0.59      1049\n",
      "\n",
      "    accuracy                           0.91      9043\n",
      "   macro avg       0.78      0.76      0.77      9043\n",
      "weighted avg       0.90      0.91      0.91      9043\n",
      "\n"
     ]
    }
   ],
   "source": [
    "print(confusion_matrix(ytest,finalpred))\n",
    "print(classification_report(ytest,finalpred)) "
   ]
  },
  {
   "cell_type": "markdown",
   "id": "be0a3a24",
   "metadata": {},
   "source": [
    "<h3><span class=\"label label-info\">Gradient Boosting</span></h3>"
   ]
  },
  {
   "cell_type": "code",
   "execution_count": 173,
   "id": "a7d20cc4",
   "metadata": {},
   "outputs": [],
   "source": [
    "# params = {'n_estimators':[100,200,300],\n",
    "#          'min_samples_split':range(2,5),\n",
    "#          'min_samples_leaf':range(1,5),\n",
    "#           'max_depth':[3,4,5,6,7]}\n",
    "\n",
    "# grid = GridSearchCV(estimator=gb1,cv=5,n_jobs=-1,param_grid=params,scoring='f1')\n",
    "\n",
    "# grid.fit(smotex,smotey)\n",
    "\n",
    "# grid.best_params_"
   ]
  },
  {
   "cell_type": "code",
   "execution_count": 174,
   "id": "0f926406",
   "metadata": {},
   "outputs": [
    {
     "name": "stdout",
     "output_type": "stream",
     "text": [
      "0.9433688949789566\n",
      "0.8958310295255999\n",
      "[[7424  570]\n",
      " [ 372  677]]\n",
      "              precision    recall  f1-score   support\n",
      "\n",
      "           0       0.95      0.93      0.94      7994\n",
      "           1       0.54      0.65      0.59      1049\n",
      "\n",
      "    accuracy                           0.90      9043\n",
      "   macro avg       0.75      0.79      0.77      9043\n",
      "weighted avg       0.90      0.90      0.90      9043\n",
      "\n"
     ]
    }
   ],
   "source": [
    "gbc =  GradientBoostingClassifier(max_depth=5,min_samples_leaf=4,min_samples_split=2,n_estimators=100)\n",
    "\n",
    "model2 = gbc.fit(xtrain,ytrain)\n",
    "ypred2 = model2.predict(xtest)  \n",
    "print(model2.score(xtrain,ytrain))\n",
    "print(model2.score(xtest,ytest))\n",
    "print(confusion_matrix(ytest,ypred2))\n",
    "print(classification_report(ytest,ypred2))"
   ]
  },
  {
   "cell_type": "code",
   "execution_count": 175,
   "id": "6cd5a025",
   "metadata": {},
   "outputs": [],
   "source": [
    "pred = []\n",
    "\n",
    "kfold = StratifiedKFold(n_splits=10,shuffle=True,random_state=42)\n",
    "\n",
    "for train_index,test_index in kfold.split(smotex,smotey):\n",
    "    xtrain = smotex.iloc[train_index]\n",
    "    ytrain = smotey.iloc[train_index]\n",
    "    pred.append(gbm.fit(xtrain,ytrain).predict(xtest))"
   ]
  },
  {
   "cell_type": "code",
   "execution_count": 176,
   "id": "f030c40b",
   "metadata": {},
   "outputs": [],
   "source": [
    "finalpred = pd.DataFrame(pred).T.mode(axis=1)[0]"
   ]
  },
  {
   "cell_type": "code",
   "execution_count": 177,
   "id": "f4ea53ce",
   "metadata": {},
   "outputs": [
    {
     "name": "stdout",
     "output_type": "stream",
     "text": [
      "0.9210384367768092\n",
      "0.8793541966161672\n",
      "[[7270  724]\n",
      " [ 343  706]]\n",
      "              precision    recall  f1-score   support\n",
      "\n",
      "           0       0.95      0.91      0.93      7994\n",
      "           1       0.49      0.67      0.57      1049\n",
      "\n",
      "    accuracy                           0.88      9043\n",
      "   macro avg       0.72      0.79      0.75      9043\n",
      "weighted avg       0.90      0.88      0.89      9043\n",
      "\n"
     ]
    }
   ],
   "source": [
    "print(gbm.score(xtrain,ytrain))\n",
    "print(gbm.score(xtest,ytest))\n",
    "print(confusion_matrix(ytest,finalpred))\n",
    "print(classification_report(ytest,finalpred)) "
   ]
  },
  {
   "cell_type": "markdown",
   "id": "52d98254",
   "metadata": {},
   "source": [
    "<h3><span class=\"label label-info\">Logistic Regression</span></h3>"
   ]
  },
  {
   "cell_type": "code",
   "execution_count": 178,
   "id": "d7a3e421",
   "metadata": {},
   "outputs": [],
   "source": [
    "lg = LogisticRegression(random_state=10)"
   ]
  },
  {
   "cell_type": "code",
   "execution_count": 179,
   "id": "aeb59216",
   "metadata": {},
   "outputs": [
    {
     "data": {
      "text/plain": [
       "{'C': 5, 'penalty': 'l2'}"
      ]
     },
     "execution_count": 179,
     "metadata": {},
     "output_type": "execute_result"
    }
   ],
   "source": [
    "params = {'penalty' :['l1', 'l2', 'elasticnet'],\n",
    "         'C':[0.1, 0.5, 1, 5, 10, 50]}\n",
    "\n",
    "Grid  = GridSearchCV(estimator=lg,cv=5,param_grid=params,n_jobs=-1)\n",
    "\n",
    "Grid.fit(xtrain,ytrain)\n",
    "\n",
    "Grid.best_params_"
   ]
  },
  {
   "cell_type": "code",
   "execution_count": 180,
   "id": "8ed9217c",
   "metadata": {},
   "outputs": [
    {
     "name": "stdout",
     "output_type": "stream",
     "text": [
      "0.8523255206973952\n",
      "0.8154373548601128\n",
      "[[6629 1365]\n",
      " [ 304  745]]\n",
      "              precision    recall  f1-score   support\n",
      "\n",
      "           0       0.96      0.83      0.89      7994\n",
      "           1       0.35      0.71      0.47      1049\n",
      "\n",
      "    accuracy                           0.82      9043\n",
      "   macro avg       0.65      0.77      0.68      9043\n",
      "weighted avg       0.89      0.82      0.84      9043\n",
      "\n"
     ]
    }
   ],
   "source": [
    "lg = LogisticRegression(random_state=10,C=5,penalty='l2')\n",
    "model2 = lg.fit(xtrain,ytrain)\n",
    "ypred2 = model2.predict(xtest)  \n",
    "print(model2.score(xtrain,ytrain))\n",
    "print(model2.score(xtest,ytest))\n",
    "print(confusion_matrix(ytest,ypred2))\n",
    "print(classification_report(ytest,ypred2))\n"
   ]
  },
  {
   "cell_type": "code",
   "execution_count": 193,
   "id": "5826584d",
   "metadata": {},
   "outputs": [],
   "source": [
    "feature_imp = pd.DataFrame()\n",
    "feature_imp['Features'] = xtrain.columns\n",
    "feature_imp['Importance'] = lgbm.feature_importances_"
   ]
  },
  {
   "cell_type": "code",
   "execution_count": 194,
   "id": "5cf85cf5",
   "metadata": {},
   "outputs": [
    {
     "data": {
      "image/png": "[encoded data removed]",
      "text/plain": [
       "<Figure size 640x480 with 1 Axes>"
      ]
     },
     "metadata": {},
     "output_type": "display_data"
    }
   ],
   "source": [
    "feature_imp1=feature_imp.sort_values(by='Importance',ascending=False)\n",
    "sns.barplot(x='Importance',y='Features',data=feature_imp1)\n",
    "plt.show()"
   ]
  },
  {
   "cell_type": "markdown",
   "id": "3984c1ac",
   "metadata": {},
   "source": [
    "#### Removing the defualt and previous from data and checking for improvement"
   ]
  },
  {
   "cell_type": "code",
   "execution_count": 181,
   "id": "5a1f1493",
   "metadata": {},
   "outputs": [],
   "source": [
    "df10 = df8.copy(deep=True)"
   ]
  },
  {
   "cell_type": "code",
   "execution_count": 182,
   "id": "481daf38",
   "metadata": {},
   "outputs": [
    {
     "data": {
      "text/html": [
       "<div>\n",
       "<style scoped>\n",
       "    .dataframe tbody tr th:only-of-type {\n",
       "        vertical-align: middle;\n",
       "    }\n",
       "\n",
       "    .dataframe tbody tr th {\n",
       "        vertical-align: top;\n",
       "    }\n",
       "\n",
       "    .dataframe thead th {\n",
       "        text-align: right;\n",
       "    }\n",
       "</style>\n",
       "<table border=\"1\" class=\"dataframe\">\n",
       "  <thead>\n",
       "    <tr style=\"text-align: right;\">\n",
       "      <th></th>\n",
       "      <th>age</th>\n",
       "      <th>job</th>\n",
       "      <th>education</th>\n",
       "      <th>default</th>\n",
       "      <th>balance</th>\n",
       "      <th>housing</th>\n",
       "      <th>loan</th>\n",
       "      <th>day</th>\n",
       "      <th>month</th>\n",
       "      <th>duration</th>\n",
       "      <th>campaign</th>\n",
       "      <th>pdays</th>\n",
       "      <th>previous</th>\n",
       "      <th>poutcome</th>\n",
       "      <th>y</th>\n",
       "      <th>marital_married</th>\n",
       "      <th>marital_single</th>\n",
       "      <th>contact_telephone</th>\n",
       "      <th>contact_unknown</th>\n",
       "      <th>month_binned</th>\n",
       "    </tr>\n",
       "  </thead>\n",
       "  <tbody>\n",
       "    <tr>\n",
       "      <th>0</th>\n",
       "      <td>58</td>\n",
       "      <td>4</td>\n",
       "      <td>0.294198</td>\n",
       "      <td>0</td>\n",
       "      <td>0.414773</td>\n",
       "      <td>1</td>\n",
       "      <td>0</td>\n",
       "      <td>-1.298476</td>\n",
       "      <td>8</td>\n",
       "      <td>0.386077</td>\n",
       "      <td>-1.108191</td>\n",
       "      <td>-0.472533</td>\n",
       "      <td>-0.4725</td>\n",
       "      <td>0.817478</td>\n",
       "      <td>0</td>\n",
       "      <td>1</td>\n",
       "      <td>0</td>\n",
       "      <td>0</td>\n",
       "      <td>1</td>\n",
       "      <td>0.48747</td>\n",
       "    </tr>\n",
       "    <tr>\n",
       "      <th>1</th>\n",
       "      <td>44</td>\n",
       "      <td>9</td>\n",
       "      <td>0.513194</td>\n",
       "      <td>0</td>\n",
       "      <td>-0.410774</td>\n",
       "      <td>1</td>\n",
       "      <td>0</td>\n",
       "      <td>-1.298476</td>\n",
       "      <td>8</td>\n",
       "      <td>-0.223033</td>\n",
       "      <td>-1.108191</td>\n",
       "      <td>-0.472533</td>\n",
       "      <td>-0.4725</td>\n",
       "      <td>0.817478</td>\n",
       "      <td>0</td>\n",
       "      <td>0</td>\n",
       "      <td>1</td>\n",
       "      <td>0</td>\n",
       "      <td>1</td>\n",
       "      <td>0.48747</td>\n",
       "    </tr>\n",
       "  </tbody>\n",
       "</table>\n",
       "</div>"
      ],
      "text/plain": [
       "   age  job  education  default   balance  housing  loan       day  month  \\\n",
       "0   58    4   0.294198        0  0.414773        1     0 -1.298476      8   \n",
       "1   44    9   0.513194        0 -0.410774        1     0 -1.298476      8   \n",
       "\n",
       "   duration  campaign     pdays  previous  poutcome  y  marital_married  \\\n",
       "0  0.386077 -1.108191 -0.472533   -0.4725  0.817478  0                1   \n",
       "1 -0.223033 -1.108191 -0.472533   -0.4725  0.817478  0                0   \n",
       "\n",
       "   marital_single  contact_telephone  contact_unknown  month_binned  \n",
       "0               0                  0                1       0.48747  \n",
       "1               1                  0                1       0.48747  "
      ]
     },
     "execution_count": 182,
     "metadata": {},
     "output_type": "execute_result"
    }
   ],
   "source": [
    "df10.head(2)"
   ]
  },
  {
   "cell_type": "code",
   "execution_count": 183,
   "id": "fd9aca41",
   "metadata": {},
   "outputs": [],
   "source": [
    "x = df10.drop(columns=['y','default','previous'],axis=1)\n",
    "y = df10['y']"
   ]
  },
  {
   "cell_type": "code",
   "execution_count": 184,
   "id": "7f9c9a94",
   "metadata": {},
   "outputs": [],
   "source": [
    "xtrain,xtest,ytrain,ytest =  train_test_split(x,y,test_size=0.20,random_state=10)"
   ]
  },
  {
   "cell_type": "code",
   "execution_count": 185,
   "id": "d5529ab8",
   "metadata": {},
   "outputs": [],
   "source": [
    "smote = SMOTE(sampling_strategy='minority')\n",
    "xtrain,ytrain = smote.fit_resample(xtrain,ytrain)"
   ]
  },
  {
   "cell_type": "code",
   "execution_count": 187,
   "id": "0f1e18f4",
   "metadata": {},
   "outputs": [
    {
     "name": "stdout",
     "output_type": "stream",
     "text": [
      "0.9475851916812829\n",
      "0.9042353201371226\n",
      "[[7506  488]\n",
      " [ 378  671]]\n",
      "              precision    recall  f1-score   support\n",
      "\n",
      "           0       0.95      0.94      0.95      7994\n",
      "           1       0.58      0.64      0.61      1049\n",
      "\n",
      "    accuracy                           0.90      9043\n",
      "   macro avg       0.77      0.79      0.78      9043\n",
      "weighted avg       0.91      0.90      0.91      9043\n",
      "\n"
     ]
    }
   ],
   "source": [
    "lgb =  LGBMClassifier(random_state=10,max_depth=7,n_estimators=100,reg_lambda=0.02)\n",
    "model2 = lgb.fit(xtrain,ytrain)\n",
    "ypred2 = model2.predict(xtest)  \n",
    "print(model2.score(xtrain,ytrain))\n",
    "print(model2.score(xtest,ytest))\n",
    "print(confusion_matrix(ytest,ypred2))\n",
    "print(classification_report(ytest,ypred2))"
   ]
  },
  {
   "cell_type": "markdown",
   "id": "5027c673",
   "metadata": {},
   "source": [
    "* **Still the f1 score remains the same**\n",
    "* **The best model for predictions are LGBM,XGB,GB with respect to month binned feature engineered**"
   ]
  },
  {
   "cell_type": "code",
   "execution_count": null,
   "id": "3448829c",
   "metadata": {},
   "outputs": [],
   "source": []
  }
 ],
 "metadata": {
  "kernelspec": {
   "display_name": "Python 3 (ipykernel)",
   "language": "python",
   "name": "python3"
  },
  "language_info": {
   "codemirror_mode": {
    "name": "ipython",
    "version": 3
   },
   "file_extension": ".py",
   "mimetype": "text/x-python",
   "name": "python",
   "nbconvert_exporter": "python",
   "pygments_lexer": "ipython3",
   "version": "3.9.13"
  }
 },
 "nbformat": 4,
 "nbformat_minor": 5
}
